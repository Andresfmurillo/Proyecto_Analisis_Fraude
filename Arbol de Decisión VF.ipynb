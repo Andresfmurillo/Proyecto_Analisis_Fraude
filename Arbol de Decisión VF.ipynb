{
 "cells": [
  {
   "cell_type": "markdown",
   "metadata": {
    "id": "Q5hL2MnLlbMG"
   },
   "source": [
    "# Arbol de Decisión"
   ]
  },
  {
   "cell_type": "code",
   "execution_count": null,
   "metadata": {
    "id": "WK13b4g7lbMH"
   },
   "outputs": [],
   "source": [
    "# Tratamiento de datos\n",
    "# ------------------------------------------------------------------------------\n",
    "import numpy as np\n",
    "import pandas as pd\n",
    "import statsmodels.api as sm\n",
    "\n",
    "# Gráficos\n",
    "# ------------------------------------------------------------------------------\n",
    "import matplotlib.pyplot as plt\n",
    "\n",
    "# Preprocesado y modelado\n",
    "# ------------------------------------------------------------------------------\n",
    "from sklearn.model_selection import train_test_split\n",
    "from sklearn.tree import DecisionTreeClassifier\n",
    "from sklearn.tree import plot_tree\n",
    "from sklearn.tree import export_graphviz\n",
    "from sklearn.tree import export_text\n",
    "from sklearn.model_selection import GridSearchCV\n",
    "from sklearn.compose import ColumnTransformer\n",
    "from sklearn.preprocessing import OneHotEncoder\n",
    "from sklearn.metrics import accuracy_score\n",
    "from sklearn.metrics import confusion_matrix\n",
    "\n",
    "# Configuración warnings\n",
    "# ------------------------------------------------------------------------------\n",
    "import warnings\n",
    "warnings.filterwarnings('once')"
   ]
  },
  {
   "cell_type": "code",
   "execution_count": null,
   "metadata": {
    "id": "rEuLRekTlbMI"
   },
   "outputs": [],
   "source": [
    "datos = pd.read_csv(\"/Users/andresfelipemurilloavendano/Documents/2. CASO_Semestre_Analitica 2021-I/DataSetMuestraProyectoKL_v7may2021.txt\", \n",
    "                 sep = \"|\", encoding = \"latin-1\", decimal = ',', error_bad_lines = False, dtype={'a': np.float32})"
   ]
  },
  {
   "cell_type": "code",
   "execution_count": null,
   "metadata": {
    "id": "rDMeGBkwlbMI",
    "outputId": "ea6da129-af90-496a-8fe4-8dc12ee08e33"
   },
   "outputs": [
    {
     "name": "stdout",
     "output_type": "stream",
     "text": [
      "<class 'pandas.core.frame.DataFrame'>\n",
      "RangeIndex: 1730042 entries, 0 to 1730041\n",
      "Data columns (total 81 columns):\n",
      " #   Column                       Dtype  \n",
      "---  ------                       -----  \n",
      " 0   EPS                          int64  \n",
      " 1   cmdcuentamedica              int64  \n",
      " 2   prsIDPrestacion              int64  \n",
      " 3   dprIDDetallePrestacion       int64  \n",
      " 4   cmdPrefijoFactura            object \n",
      " 5   cmdNumeroFactura             int64  \n",
      " 6   PrNumFactu1                  object \n",
      " 7   PrNumFactu2                  object \n",
      " 8   cmdFchEmisionFactura         object \n",
      " 9   cmdfchradicacion             object \n",
      " 10  cmdTotalFactura              float64\n",
      " 11  FAC_FECH                     object \n",
      " 12  FAC_ESTA                     object \n",
      " 13  FAC_VATO                     float64\n",
      " 14  FecPagoReciente              object \n",
      " 15  ValTotalPago                 float64\n",
      " 16  cmdTotalIva                  int64  \n",
      " 17  cmdTotalReteFuente           int64  \n",
      " 18  cmdTotalReteIca              int64  \n",
      " 19  cmdTotalICO                  int64  \n",
      " 20  idEstadoCuenta               int64  \n",
      " 21  NombreEstadoCuenta           object \n",
      " 22  cafRadOtroOperador           object \n",
      " 23  idAmbito                     int64  \n",
      " 24  NombreAmbito                 object \n",
      " 25  idCobertura                  int64  \n",
      " 26  NombreCobertura              object \n",
      " 27  prsFchEntrada                object \n",
      " 28  prsFchSalida                 object \n",
      " 29  dprvlrproducto               float64\n",
      " 30  dprcantproducto              float64\n",
      " 31  ValorTotalDetalle            float64\n",
      " 32  dprVlrCopago                 float64\n",
      " 33  dprVlrModeradora             float64\n",
      " 34  prsgrabada                   int64  \n",
      " 35  prsVistoBueno                int64  \n",
      " 36  prsFechaVistoBueno           object \n",
      " 37  IdAfiliado                   float64\n",
      " 38  FechaNacimiento              object \n",
      " 39  Genero                       float64\n",
      " 40  GeneroID                     object \n",
      " 41  DANEAfiliado                 float64\n",
      " 42  FechaRadicacion              object \n",
      " 43  FechaAfiliacion              object \n",
      " 44  FechaRetiro                  object \n",
      " 45  EstadoAfiliacion             float64\n",
      " 46  DescripcionEstado            object \n",
      " 47  RazonEstadoAfiliacion        float64\n",
      " 48  DescripcionRazon             object \n",
      " 49  EstadoBDUA                   object \n",
      " 50  Cohorte                      object \n",
      " 51  IdTipoAfiliado               float64\n",
      " 52  TipoAfiliado                 object \n",
      " 53  Edad                         float64\n",
      " 54  idGrupoEtareo                float64\n",
      " 55  NombreGrupoEtareo            object \n",
      " 56  idTipoProducto               float64\n",
      " 57  NombreTipoProducto           object \n",
      " 58  CodigoServicio               int64  \n",
      " 59  DescripcionServicio          object \n",
      " 60  Tipo_Cod                     object \n",
      " 61  Codigo                       object \n",
      " 62  Descripcion_Cups_Cum         object \n",
      " 63  Seccion                      object \n",
      " 64  Servicio                     object \n",
      " 65  Agrupador2NTP                object \n",
      " 66  Especialidad                 object \n",
      " 67  prsTipoAtencion              float64\n",
      " 68  tatDescAtencion              object \n",
      " 69  idTipoCuenta                 int64  \n",
      " 70  NombreTipoCuenta             object \n",
      " 71  esContratoEspecial           bool   \n",
      " 72  idNit                        int64  \n",
      " 73  CodigoDANEDeptoMunPrestador  int64  \n",
      " 74  dxIDHomolDiag                object \n",
      " 75  dxDescripcion                object \n",
      " 76  sss1                         bool   \n",
      " 77  sss2                         bool   \n",
      " 78  ssd1                         bool   \n",
      " 79  ssd2                         bool   \n",
      " 80  ValUnitAt                    bool   \n",
      "dtypes: bool(6), float64(18), int64(18), object(39)\n",
      "memory usage: 999.8+ MB\n"
     ]
    }
   ],
   "source": [
    "datos.info()"
   ]
  },
  {
   "cell_type": "code",
   "execution_count": null,
   "metadata": {
    "id": "xnS1MoIFlbMK",
    "outputId": "97c3ad3d-7438-44e7-ad15-5fda65436c15"
   },
   "outputs": [
    {
     "data": {
      "text/html": [
       "<div>\n",
       "<style scoped>\n",
       "    .dataframe tbody tr th:only-of-type {\n",
       "        vertical-align: middle;\n",
       "    }\n",
       "\n",
       "    .dataframe tbody tr th {\n",
       "        vertical-align: top;\n",
       "    }\n",
       "\n",
       "    .dataframe thead th {\n",
       "        text-align: right;\n",
       "    }\n",
       "</style>\n",
       "<table border=\"1\" class=\"dataframe\">\n",
       "  <thead>\n",
       "    <tr style=\"text-align: right;\">\n",
       "      <th></th>\n",
       "      <th>EPS</th>\n",
       "      <th>cmdcuentamedica</th>\n",
       "      <th>prsIDPrestacion</th>\n",
       "      <th>dprIDDetallePrestacion</th>\n",
       "      <th>cmdNumeroFactura</th>\n",
       "      <th>cmdTotalFactura</th>\n",
       "      <th>FAC_VATO</th>\n",
       "      <th>ValTotalPago</th>\n",
       "      <th>cmdTotalIva</th>\n",
       "      <th>cmdTotalReteFuente</th>\n",
       "      <th>...</th>\n",
       "      <th>prsTipoAtencion</th>\n",
       "      <th>idTipoCuenta</th>\n",
       "      <th>esContratoEspecial</th>\n",
       "      <th>idNit</th>\n",
       "      <th>CodigoDANEDeptoMunPrestador</th>\n",
       "      <th>sss1</th>\n",
       "      <th>sss2</th>\n",
       "      <th>ssd1</th>\n",
       "      <th>ssd2</th>\n",
       "      <th>ValUnitAt</th>\n",
       "    </tr>\n",
       "  </thead>\n",
       "  <tbody>\n",
       "    <tr>\n",
       "      <th>0</th>\n",
       "      <td>3</td>\n",
       "      <td>5015177</td>\n",
       "      <td>10935210</td>\n",
       "      <td>34080638</td>\n",
       "      <td>1833</td>\n",
       "      <td>2022881.0</td>\n",
       "      <td>2022881.0</td>\n",
       "      <td>1705361.0</td>\n",
       "      <td>0</td>\n",
       "      <td>0</td>\n",
       "      <td>...</td>\n",
       "      <td>44.0</td>\n",
       "      <td>2</td>\n",
       "      <td>False</td>\n",
       "      <td>702</td>\n",
       "      <td>17001</td>\n",
       "      <td>False</td>\n",
       "      <td>False</td>\n",
       "      <td>False</td>\n",
       "      <td>False</td>\n",
       "      <td>False</td>\n",
       "    </tr>\n",
       "    <tr>\n",
       "      <th>1</th>\n",
       "      <td>1</td>\n",
       "      <td>15612717</td>\n",
       "      <td>37049102</td>\n",
       "      <td>122636975</td>\n",
       "      <td>904882</td>\n",
       "      <td>76465.0</td>\n",
       "      <td>76465.0</td>\n",
       "      <td>76465.0</td>\n",
       "      <td>0</td>\n",
       "      <td>0</td>\n",
       "      <td>...</td>\n",
       "      <td>2.0</td>\n",
       "      <td>2</td>\n",
       "      <td>False</td>\n",
       "      <td>762</td>\n",
       "      <td>5154</td>\n",
       "      <td>False</td>\n",
       "      <td>False</td>\n",
       "      <td>False</td>\n",
       "      <td>False</td>\n",
       "      <td>True</td>\n",
       "    </tr>\n",
       "    <tr>\n",
       "      <th>2</th>\n",
       "      <td>1</td>\n",
       "      <td>15612717</td>\n",
       "      <td>37049102</td>\n",
       "      <td>122636973</td>\n",
       "      <td>904882</td>\n",
       "      <td>76465.0</td>\n",
       "      <td>76465.0</td>\n",
       "      <td>76465.0</td>\n",
       "      <td>0</td>\n",
       "      <td>0</td>\n",
       "      <td>...</td>\n",
       "      <td>2.0</td>\n",
       "      <td>2</td>\n",
       "      <td>False</td>\n",
       "      <td>762</td>\n",
       "      <td>5154</td>\n",
       "      <td>False</td>\n",
       "      <td>False</td>\n",
       "      <td>False</td>\n",
       "      <td>False</td>\n",
       "      <td>False</td>\n",
       "    </tr>\n",
       "    <tr>\n",
       "      <th>3</th>\n",
       "      <td>1</td>\n",
       "      <td>14219175</td>\n",
       "      <td>34622073</td>\n",
       "      <td>111847983</td>\n",
       "      <td>3425458</td>\n",
       "      <td>49933.0</td>\n",
       "      <td>49933.0</td>\n",
       "      <td>49933.0</td>\n",
       "      <td>0</td>\n",
       "      <td>0</td>\n",
       "      <td>...</td>\n",
       "      <td>2.0</td>\n",
       "      <td>2</td>\n",
       "      <td>False</td>\n",
       "      <td>677</td>\n",
       "      <td>76736</td>\n",
       "      <td>False</td>\n",
       "      <td>False</td>\n",
       "      <td>False</td>\n",
       "      <td>False</td>\n",
       "      <td>False</td>\n",
       "    </tr>\n",
       "    <tr>\n",
       "      <th>4</th>\n",
       "      <td>1</td>\n",
       "      <td>16372641</td>\n",
       "      <td>38155400</td>\n",
       "      <td>127513164</td>\n",
       "      <td>4412959</td>\n",
       "      <td>4073108.0</td>\n",
       "      <td>NaN</td>\n",
       "      <td>NaN</td>\n",
       "      <td>0</td>\n",
       "      <td>0</td>\n",
       "      <td>...</td>\n",
       "      <td>44.0</td>\n",
       "      <td>2</td>\n",
       "      <td>False</td>\n",
       "      <td>359</td>\n",
       "      <td>15753</td>\n",
       "      <td>False</td>\n",
       "      <td>False</td>\n",
       "      <td>False</td>\n",
       "      <td>False</td>\n",
       "      <td>False</td>\n",
       "    </tr>\n",
       "  </tbody>\n",
       "</table>\n",
       "<p>5 rows × 42 columns</p>\n",
       "</div>"
      ],
      "text/plain": [
       "   EPS  cmdcuentamedica  prsIDPrestacion  dprIDDetallePrestacion  \\\n",
       "0    3          5015177         10935210                34080638   \n",
       "1    1         15612717         37049102               122636975   \n",
       "2    1         15612717         37049102               122636973   \n",
       "3    1         14219175         34622073               111847983   \n",
       "4    1         16372641         38155400               127513164   \n",
       "\n",
       "   cmdNumeroFactura  cmdTotalFactura   FAC_VATO  ValTotalPago  cmdTotalIva  \\\n",
       "0              1833        2022881.0  2022881.0     1705361.0            0   \n",
       "1            904882          76465.0    76465.0       76465.0            0   \n",
       "2            904882          76465.0    76465.0       76465.0            0   \n",
       "3           3425458          49933.0    49933.0       49933.0            0   \n",
       "4           4412959        4073108.0        NaN           NaN            0   \n",
       "\n",
       "   cmdTotalReteFuente  ...  prsTipoAtencion  idTipoCuenta  esContratoEspecial  \\\n",
       "0                   0  ...             44.0             2               False   \n",
       "1                   0  ...              2.0             2               False   \n",
       "2                   0  ...              2.0             2               False   \n",
       "3                   0  ...              2.0             2               False   \n",
       "4                   0  ...             44.0             2               False   \n",
       "\n",
       "   idNit  CodigoDANEDeptoMunPrestador   sss1   sss2   ssd1   ssd2  ValUnitAt  \n",
       "0    702                        17001  False  False  False  False      False  \n",
       "1    762                         5154  False  False  False  False       True  \n",
       "2    762                         5154  False  False  False  False      False  \n",
       "3    677                        76736  False  False  False  False      False  \n",
       "4    359                        15753  False  False  False  False      False  \n",
       "\n",
       "[5 rows x 42 columns]"
      ]
     },
     "execution_count": 5,
     "metadata": {
      "tags": []
     },
     "output_type": "execute_result"
    }
   ],
   "source": [
    "datos = datos.drop([\"cmdPrefijoFactura\", \"PrNumFactu1\", \"PrNumFactu2\", \"FAC_ESTA\", \"NombreEstadoCuenta\",\n",
    "                     \"cafRadOtroOperador\", \"NombreAmbito\", \"NombreCobertura\", \"GeneroID\",\n",
    "                     \"DescripcionEstado\", \"DescripcionRazon\", \"EstadoBDUA\", \"Cohorte\", \"TipoAfiliado\",\n",
    "                     \"NombreGrupoEtareo\", \"NombreTipoProducto\", \"DescripcionServicio\", \"Tipo_Cod\",\n",
    "                     \"Codigo\", \"Descripcion_Cups_Cum\", \"Seccion\", \"Servicio\", \"Agrupador2NTP\", \"Especialidad\",\n",
    "                     \"tatDescAtencion\", \"NombreTipoCuenta\", \"dxIDHomolDiag\", \"dxDescripcion\", \n",
    "                     \"cmdFchEmisionFactura\", \"cmdfchradicacion\", \"FAC_FECH\", \"FecPagoReciente\", \"prsFchEntrada\",\n",
    "                     \"prsFchSalida\", \"prsFchSalida\", \"prsFechaVistoBueno\", \"FechaNacimiento\", \"FechaRadicacion\",\n",
    "                     \"FechaAfiliacion\", \"FechaRetiro\"], axis=1)\n",
    "datos.head()"
   ]
  },
  {
   "cell_type": "code",
   "execution_count": null,
   "metadata": {
    "id": "LDtzjFkulbML",
    "outputId": "6d1b4582-596e-4799-f20c-b4c0d0f9a6bb"
   },
   "outputs": [
    {
     "name": "stdout",
     "output_type": "stream",
     "text": [
      "<class 'pandas.core.frame.DataFrame'>\n",
      "RangeIndex: 1730042 entries, 0 to 1730041\n",
      "Data columns (total 42 columns):\n",
      " #   Column                       Dtype  \n",
      "---  ------                       -----  \n",
      " 0   EPS                          int64  \n",
      " 1   cmdcuentamedica              int64  \n",
      " 2   prsIDPrestacion              int64  \n",
      " 3   dprIDDetallePrestacion       int64  \n",
      " 4   cmdNumeroFactura             int64  \n",
      " 5   cmdTotalFactura              float64\n",
      " 6   FAC_VATO                     float64\n",
      " 7   ValTotalPago                 float64\n",
      " 8   cmdTotalIva                  int64  \n",
      " 9   cmdTotalReteFuente           int64  \n",
      " 10  cmdTotalReteIca              int64  \n",
      " 11  cmdTotalICO                  int64  \n",
      " 12  idEstadoCuenta               int64  \n",
      " 13  idAmbito                     int64  \n",
      " 14  idCobertura                  int64  \n",
      " 15  dprvlrproducto               float64\n",
      " 16  dprcantproducto              float64\n",
      " 17  ValorTotalDetalle            float64\n",
      " 18  dprVlrCopago                 float64\n",
      " 19  dprVlrModeradora             float64\n",
      " 20  prsgrabada                   int64  \n",
      " 21  prsVistoBueno                int64  \n",
      " 22  IdAfiliado                   float64\n",
      " 23  Genero                       float64\n",
      " 24  DANEAfiliado                 float64\n",
      " 25  EstadoAfiliacion             float64\n",
      " 26  RazonEstadoAfiliacion        float64\n",
      " 27  IdTipoAfiliado               float64\n",
      " 28  Edad                         float64\n",
      " 29  idGrupoEtareo                float64\n",
      " 30  idTipoProducto               float64\n",
      " 31  CodigoServicio               int64  \n",
      " 32  prsTipoAtencion              float64\n",
      " 33  idTipoCuenta                 int64  \n",
      " 34  esContratoEspecial           bool   \n",
      " 35  idNit                        int64  \n",
      " 36  CodigoDANEDeptoMunPrestador  int64  \n",
      " 37  sss1                         bool   \n",
      " 38  sss2                         bool   \n",
      " 39  ssd1                         bool   \n",
      " 40  ssd2                         bool   \n",
      " 41  ValUnitAt                    bool   \n",
      "dtypes: bool(6), float64(18), int64(18)\n",
      "memory usage: 485.1 MB\n"
     ]
    }
   ],
   "source": [
    "datos.info()"
   ]
  },
  {
   "cell_type": "code",
   "execution_count": null,
   "metadata": {
    "id": "_XYKbrm8lbML"
   },
   "outputs": [],
   "source": [
    "datos = datos.fillna(0)\n",
    "\n",
    "# Es necesario convertir las columnas object a numerico ya que son valores numericos que representan valores monetarios.\n",
    "\n",
    "datos['ValorTotalDetalle']=datos['ValorTotalDetalle'].replace(\",\", \".\",regex=True).astype('float').astype('int')\n",
    "\n",
    "datos['dprcantproducto']=datos['dprcantproducto'].replace(\",\", \".\",regex=True).astype('float').astype('int')\n",
    "\n",
    "datos['cmdTotalFactura']=datos['cmdTotalFactura'].replace(\",\", \".\",regex=True).astype('float').astype('int')\n",
    "\n",
    "datos['ValTotalPago']=datos['ValTotalPago'].replace(\",\", \".\",regex=True).astype('float').astype('int')\n",
    "\n",
    "datos['dprvlrproducto']=datos['dprvlrproducto'].replace(\",\", \".\",regex=True).astype('float').astype('int')\n",
    "\n",
    "datos['esContratoEspecial'] = datos['esContratoEspecial'].astype(int)\n",
    "\n",
    "datos['ValUnitAt'] = datos['ValUnitAt'].astype(int)\n",
    "\n",
    "datos['sss1'] = datos['sss1'].astype(int)\n",
    "datos['sss2'] = datos['sss2'].astype(int)\n",
    "datos['ssd1'] = datos['ssd1'].astype(int)\n",
    "datos['ssd2'] = datos['ssd2'].astype(int)"
   ]
  },
  {
   "cell_type": "code",
   "execution_count": null,
   "metadata": {
    "id": "hd-Mr0_ulbMM",
    "outputId": "71658e3f-4a90-419a-eaf4-b00fcab1af43"
   },
   "outputs": [
    {
     "name": "stdout",
     "output_type": "stream",
     "text": [
      "<class 'pandas.core.frame.DataFrame'>\n",
      "RangeIndex: 1730042 entries, 0 to 1730041\n",
      "Data columns (total 42 columns):\n",
      " #   Column                       Dtype  \n",
      "---  ------                       -----  \n",
      " 0   EPS                          int64  \n",
      " 1   cmdcuentamedica              int64  \n",
      " 2   prsIDPrestacion              int64  \n",
      " 3   dprIDDetallePrestacion       int64  \n",
      " 4   cmdNumeroFactura             int64  \n",
      " 5   cmdTotalFactura              int64  \n",
      " 6   FAC_VATO                     float64\n",
      " 7   ValTotalPago                 int64  \n",
      " 8   cmdTotalIva                  int64  \n",
      " 9   cmdTotalReteFuente           int64  \n",
      " 10  cmdTotalReteIca              int64  \n",
      " 11  cmdTotalICO                  int64  \n",
      " 12  idEstadoCuenta               int64  \n",
      " 13  idAmbito                     int64  \n",
      " 14  idCobertura                  int64  \n",
      " 15  dprvlrproducto               int64  \n",
      " 16  dprcantproducto              int64  \n",
      " 17  ValorTotalDetalle            int64  \n",
      " 18  dprVlrCopago                 float64\n",
      " 19  dprVlrModeradora             float64\n",
      " 20  prsgrabada                   int64  \n",
      " 21  prsVistoBueno                int64  \n",
      " 22  IdAfiliado                   float64\n",
      " 23  Genero                       float64\n",
      " 24  DANEAfiliado                 float64\n",
      " 25  EstadoAfiliacion             float64\n",
      " 26  RazonEstadoAfiliacion        float64\n",
      " 27  IdTipoAfiliado               float64\n",
      " 28  Edad                         float64\n",
      " 29  idGrupoEtareo                float64\n",
      " 30  idTipoProducto               float64\n",
      " 31  CodigoServicio               int64  \n",
      " 32  prsTipoAtencion              float64\n",
      " 33  idTipoCuenta                 int64  \n",
      " 34  esContratoEspecial           int64  \n",
      " 35  idNit                        int64  \n",
      " 36  CodigoDANEDeptoMunPrestador  int64  \n",
      " 37  sss1                         int64  \n",
      " 38  sss2                         int64  \n",
      " 39  ssd1                         int64  \n",
      " 40  ssd2                         int64  \n",
      " 41  ValUnitAt                    int64  \n",
      "dtypes: float64(13), int64(29)\n",
      "memory usage: 554.4 MB\n"
     ]
    }
   ],
   "source": [
    "datos.info()"
   ]
  },
  {
   "cell_type": "code",
   "execution_count": null,
   "metadata": {
    "id": "f-Cn6Xv0lbMQ",
    "outputId": "b085d33a-761a-4287-ead7-b10c9bfa231b"
   },
   "outputs": [
    {
     "data": {
      "text/plain": [
       "0    1417076\n",
       "1     312966\n",
       "Name: ValUnitAt, dtype: int64"
      ]
     },
     "execution_count": 9,
     "metadata": {
      "tags": []
     },
     "output_type": "execute_result"
    }
   ],
   "source": [
    "datos[\"ValUnitAt\"].value_counts()"
   ]
  },
  {
   "cell_type": "markdown",
   "metadata": {
    "id": "BWRIvg2olbMQ"
   },
   "source": [
    "### 312.966 datos atipicos y sospechosos de fraude, encontrados mediante los rangos intercuartilicos y test SSS1, SSS2, SSD1, SSD2, seran marcados con True = 1\n",
    "### Los demás datos con False = 0"
   ]
  },
  {
   "cell_type": "code",
   "execution_count": null,
   "metadata": {
    "id": "7DFRJew4lbMR"
   },
   "outputs": [],
   "source": [
    "# División de los datos en train y test\n",
    "# ------------------------------------------------------------------------------\n",
    "X_train, X_test, y_train, y_test = train_test_split(\n",
    "                                        datos.drop(columns = 'ValUnitAt'),\n",
    "                                        datos['ValUnitAt'],\n",
    "                                        random_state = 123\n",
    "                                    )\n",
    "\n",
    "# One-hot-encoding de las variables categóricas\n",
    "# ------------------------------------------------------------------------------\n",
    "# Se identifica el nobre de las columnas numéricas y categóricas\n",
    "cat_cols = X_train.select_dtypes(include=['object', 'category']).columns.to_list()\n",
    "numeric_cols = X_train.select_dtypes(include=['float64', 'int']).columns.to_list()\n",
    "\n",
    "# Se aplica one-hot-encoding solo a las columnas categóricas\n",
    "preprocessor = ColumnTransformer(\n",
    "                    [('onehot', OneHotEncoder(handle_unknown='ignore'), cat_cols)],\n",
    "                    remainder='passthrough')\n",
    "\n",
    "# Una vez que se ha definido el objeto ColumnTransformer, con el método fit()\n",
    "# se aprenden las transformaciones con los datos de entrenamiento y se aplican a\n",
    "# los dos conjuntos con transform(). Ambas operaciones a la vez con fit_transform().\n",
    "X_train_prep = preprocessor.fit_transform(X_train)\n",
    "X_test_prep  = preprocessor.transform(X_test)"
   ]
  },
  {
   "cell_type": "code",
   "execution_count": null,
   "metadata": {
    "id": "Yw9y4w_mlbMR",
    "outputId": "da072627-8b27-4488-88d4-2dbfc4e44e15"
   },
   "outputs": [
    {
     "data": {
      "text/plain": [
       "DecisionTreeClassifier(max_depth=5, random_state=123)"
      ]
     },
     "execution_count": 11,
     "metadata": {
      "tags": []
     },
     "output_type": "execute_result"
    }
   ],
   "source": [
    "# Creación del modelo\n",
    "# ------------------------------------------------------------------------------\n",
    "modelo = DecisionTreeClassifier(\n",
    "            max_depth         = 5,\n",
    "            criterion         = 'gini',\n",
    "            random_state      = 123\n",
    "          )\n",
    "\n",
    "# Entrenamiento del modelo\n",
    "# ------------------------------------------------------------------------------\n",
    "modelo.fit(X_train_prep, y_train)"
   ]
  },
  {
   "cell_type": "code",
   "execution_count": null,
   "metadata": {
    "id": "e9QMGPhLlbMR",
    "outputId": "66471857-4ac9-401b-8417-17427870e62f"
   },
   "outputs": [
    {
     "name": "stdout",
     "output_type": "stream",
     "text": [
      "Profundidad del árbol: 5\n",
      "Número de nodos terminales: 18\n"
     ]
    },
    {
     "data": {
      "image/png": "[encoded data removed]",
      "text/plain": [
       "<Figure size 936x432 with 1 Axes>"
      ]
     },
     "metadata": {
      "needs_background": "light",
      "tags": []
     },
     "output_type": "display_data"
    }
   ],
   "source": [
    "# Estructura del árbol creado\n",
    "# ------------------------------------------------------------------------------\n",
    "fig, ax = plt.subplots(figsize=(13, 6))\n",
    "\n",
    "print(f\"Profundidad del árbol: {modelo.get_depth()}\")\n",
    "print(f\"Número de nodos terminales: {modelo.get_n_leaves()}\")\n",
    "\n",
    "plot = plot_tree(\n",
    "            decision_tree = modelo,\n",
    "            class_names   = 'ValUnitAt',\n",
    "            filled        = True,\n",
    "            impurity      = False,\n",
    "            fontsize      = 7,\n",
    "            ax            = ax\n",
    "       )"
   ]
  },
  {
   "cell_type": "code",
   "execution_count": null,
   "metadata": {
    "id": "Ddd2o64SlbMS",
    "outputId": "1dbdc2a2-8708-4d5e-ca0e-9f90b648726f"
   },
   "outputs": [
    {
     "data": {
      "text/plain": [
       "array([[347767,   6551],\n",
       "       [ 68054,  10139]])"
      ]
     },
     "execution_count": 13,
     "metadata": {
      "tags": []
     },
     "output_type": "execute_result"
    }
   ],
   "source": [
    "# Error de test del modelo\n",
    "#-------------------------------------------------------------------------------\n",
    "predicciones = modelo.predict(X = X_test_prep,)\n",
    "\n",
    "print(\"Matriz de confusión\")\n",
    "print(\"-------------------\")\n",
    "confusion_matrix(\n",
    "    y_true    = y_test,\n",
    "    y_pred    = predicciones\n",
    ")"
   ]
  },
  {
   "cell_type": "code",
   "execution_count": null,
   "metadata": {
    "id": "R1qLOJXNlbMS",
    "outputId": "d697f3f5-08c1-47f4-a2ba-550fc8ed63f2"
   },
   "outputs": [
    {
     "name": "stdout",
     "output_type": "stream",
     "text": [
      "Matriz de confusión\n",
      "-------------------\n"
     ]
    },
    {
     "data": {
      "text/plain": [
       "Text(91.68, 0.5, 'predicted label')"
      ]
     },
     "execution_count": 14,
     "metadata": {
      "tags": []
     },
     "output_type": "execute_result"
    },
    {
     "data": {
      "image/png": "[encoded data removed]",
      "text/plain": [
       "<Figure size 432x288 with 1 Axes>"
      ]
     },
     "metadata": {
      "needs_background": "light",
      "tags": []
     },
     "output_type": "display_data"
    }
   ],
   "source": [
    "from sklearn.metrics import confusion_matrix\n",
    "import seaborn as sns\n",
    "mat = confusion_matrix(y_test, predicciones)\n",
    "sns.heatmap(mat.T, square=True, annot=True, fmt='d', cbar=False)\n",
    "plt.xlabel('true label')\n",
    "plt.ylabel('predicted label')"
   ]
  },
  {
   "cell_type": "code",
   "execution_count": null,
   "metadata": {
    "id": "CfX1OohGlbMT",
    "outputId": "4d55ef57-d9c8-4203-abb5-1947e97b311a"
   },
   "outputs": [
    {
     "name": "stdout",
     "output_type": "stream",
     "text": [
      "El accuracy de test es: 82.75072772715608 %\n"
     ]
    }
   ],
   "source": [
    "accuracy = accuracy_score(\n",
    "            y_true    = y_test,\n",
    "            y_pred    = predicciones,\n",
    "            normalize = True\n",
    "           )\n",
    "print(f\"El accuracy de test es: {100 * accuracy} %\")"
   ]
  },
  {
   "cell_type": "code",
   "execution_count": null,
   "metadata": {
    "id": "yhqRNdXDlbMT",
    "outputId": "dce15088-402b-42fc-8d75-d97438f83173"
   },
   "outputs": [
    {
     "name": "stdout",
     "output_type": "stream",
     "text": [
      "              precision    recall  f1-score   support\n",
      "\n",
      "           0       0.84      0.98      0.90    354318\n",
      "           1       0.61      0.13      0.21     78193\n",
      "\n",
      "    accuracy                           0.83    432511\n",
      "   macro avg       0.72      0.56      0.56    432511\n",
      "weighted avg       0.79      0.83      0.78    432511\n",
      "\n"
     ]
    }
   ],
   "source": [
    "##accuracy, precisión, recall\n",
    "from sklearn.metrics import classification_report\n",
    "print(classification_report(y_test, predicciones))"
   ]
  },
  {
   "cell_type": "markdown",
   "metadata": {
    "id": "T-BcbEhHlbMU"
   },
   "source": [
    "## Podado del árbol (pruning)\n",
    "\n",
    "\n",
    "se utilizó un valor de max_depth=5, pero no sabemos si es el mejor valor. Para poder identificar la profundidad óptima que reduce la varianza y aumenta la capacidad predictiva del modelo, debemos podar el árbol mediante el proceso de pruning."
   ]
  },
  {
   "cell_type": "code",
   "execution_count": null,
   "metadata": {
    "id": "L5dZtc7NlbMU",
    "outputId": "487ca0df-bbce-4f8d-b64b-2c7682e9edc7"
   },
   "outputs": [
    {
     "data": {
      "image/png": "[encoded data removed]",
      "text/plain": [
       "<Figure size 432x276.48 with 1 Axes>"
      ]
     },
     "metadata": {
      "needs_background": "light",
      "tags": []
     },
     "output_type": "display_data"
    }
   ],
   "source": [
    "# Post pruning (const complexity pruning) por validación cruzada\n",
    "# ------------------------------------------------------------------------------\n",
    "# Valores de ccp_alpha evaluados\n",
    "param_grid = {'ccp_alpha':np.linspace(0, 5, 10)}\n",
    "\n",
    "# Búsqueda por validación cruzada\n",
    "grid = GridSearchCV(\n",
    "        # El árbol se crece al máximo posible antes de aplicar el pruning\n",
    "        estimator = DecisionTreeClassifier(\n",
    "                            max_depth         = None,\n",
    "                            min_samples_split = 2,\n",
    "                            min_samples_leaf  = 1,\n",
    "                            random_state      = 123\n",
    "                       ),\n",
    "        param_grid = param_grid,\n",
    "        scoring    = 'accuracy',\n",
    "        cv         = 10,\n",
    "        refit      = True,\n",
    "        return_train_score = True\n",
    "      )\n",
    "\n",
    "grid.fit(X_train_prep, y_train)\n",
    "\n",
    "fig, ax = plt.subplots(figsize=(6, 3.84))\n",
    "scores = pd.DataFrame(grid.cv_results_)\n",
    "scores.plot(x='param_ccp_alpha', y='mean_train_score', yerr='std_train_score', ax=ax)\n",
    "scores.plot(x='param_ccp_alpha', y='mean_test_score', yerr='std_test_score', ax=ax)\n",
    "ax.set_title(\"Error de validacion cruzada vs hiperparámetro ccp_alpha\");"
   ]
  },
  {
   "cell_type": "code",
   "execution_count": null,
   "metadata": {
    "id": "lTdwOzOolbMV",
    "outputId": "60e10971-6ea6-4433-ccf8-d40d4097f942"
   },
   "outputs": [
    {
     "data": {
      "text/plain": [
       "{'ccp_alpha': 0.0}"
      ]
     },
     "execution_count": 18,
     "metadata": {
      "tags": []
     },
     "output_type": "execute_result"
    }
   ],
   "source": [
    "# Mejor valor ccp_alpha encontrado\n",
    "# ------------------------------------------------------------------------------\n",
    "grid.best_params_"
   ]
  },
  {
   "cell_type": "markdown",
   "metadata": {
    "id": "Zgxm8X_slbMV"
   },
   "source": [
    "Una vez identificado el valor óptimo de ccp_alpha, volvemos a entrenar el árbol indicando el valor de los argumentos. Si el GridSearchCV() se indica refit=True, este reentrenamiento se hace automáticamente y el modelo resultante se encuentra almacenado en .best_estimator_."
   ]
  },
  {
   "cell_type": "code",
   "execution_count": null,
   "metadata": {
    "id": "l9k7sXqwlbMV",
    "outputId": "61e45044-b3b7-4f03-d703-ca88082e6b32"
   },
   "outputs": [
    {
     "name": "stdout",
     "output_type": "stream",
     "text": [
      "Profundidad del árbol: 48\n",
      "Número de nodos terminales: 46378\n"
     ]
    }
   ],
   "source": [
    "# Estructura del árbol final\n",
    "# ------------------------------------------------------------------------------\n",
    "modelo_final = grid.best_estimator_\n",
    "print(f\"Profundidad del árbol: {modelo_final.get_depth()}\")\n",
    "print(f\"Número de nodos terminales: {modelo_final.get_n_leaves()}\")"
   ]
  },
  {
   "cell_type": "code",
   "execution_count": null,
   "metadata": {
    "id": "OqHcPokYlbMW",
    "outputId": "dc2b5b17-5b98-43a3-8cfd-54257b6e5246"
   },
   "outputs": [
    {
     "name": "stdout",
     "output_type": "stream",
     "text": [
      "El accuracy de test es: 95.20497744566035 %\n"
     ]
    }
   ],
   "source": [
    "# Error de test del modelo final\n",
    "#-------------------------------------------------------------------------------\n",
    "predicciones = modelo_final.predict(X = X_test_prep)\n",
    "\n",
    "accuracy = accuracy_score(\n",
    "            y_true    = y_test,\n",
    "            y_pred    = predicciones,\n",
    "            normalize = True\n",
    "           )\n",
    "print(f\"El accuracy de test es: {100 * accuracy} %\")"
   ]
  },
  {
   "cell_type": "markdown",
   "metadata": {
    "id": "Mmpbk6YblbMX"
   },
   "source": [
    "La importancia de cada predictor en modelo se calcula como la reducción total (normalizada) en el criterio de división, en este caso el índice Gini, que consigue el predictor en las divisiones en las que participa. Si un predictor no ha sido seleccionado en ninguna divisón, no se ha incluido en el modelo y por lo tanto su importancia es 0."
   ]
  },
  {
   "cell_type": "code",
   "execution_count": null,
   "metadata": {
    "id": "J1hHa8PLlbMY",
    "outputId": "bb8e45ed-5a33-4d5d-a5fb-ed2eb0021ed2"
   },
   "outputs": [
    {
     "name": "stdout",
     "output_type": "stream",
     "text": [
      "Importancia de los predictores en el modelo\n",
      "-------------------------------------------\n"
     ]
    },
    {
     "data": {
      "text/html": [
       "<div>\n",
       "<style scoped>\n",
       "    .dataframe tbody tr th:only-of-type {\n",
       "        vertical-align: middle;\n",
       "    }\n",
       "\n",
       "    .dataframe tbody tr th {\n",
       "        vertical-align: top;\n",
       "    }\n",
       "\n",
       "    .dataframe thead th {\n",
       "        text-align: right;\n",
       "    }\n",
       "</style>\n",
       "<table border=\"1\" class=\"dataframe\">\n",
       "  <thead>\n",
       "    <tr style=\"text-align: right;\">\n",
       "      <th></th>\n",
       "      <th>predictor</th>\n",
       "      <th>importancia</th>\n",
       "    </tr>\n",
       "  </thead>\n",
       "  <tbody>\n",
       "    <tr>\n",
       "      <th>31</th>\n",
       "      <td>CodigoServicio</td>\n",
       "      <td>0.432815</td>\n",
       "    </tr>\n",
       "    <tr>\n",
       "      <th>15</th>\n",
       "      <td>dprvlrproducto</td>\n",
       "      <td>0.227971</td>\n",
       "    </tr>\n",
       "    <tr>\n",
       "      <th>35</th>\n",
       "      <td>idNit</td>\n",
       "      <td>0.049404</td>\n",
       "    </tr>\n",
       "    <tr>\n",
       "      <th>4</th>\n",
       "      <td>cmdNumeroFactura</td>\n",
       "      <td>0.040533</td>\n",
       "    </tr>\n",
       "    <tr>\n",
       "      <th>36</th>\n",
       "      <td>CodigoDANEDeptoMunPrestador</td>\n",
       "      <td>0.039792</td>\n",
       "    </tr>\n",
       "    <tr>\n",
       "      <th>30</th>\n",
       "      <td>idTipoProducto</td>\n",
       "      <td>0.037587</td>\n",
       "    </tr>\n",
       "    <tr>\n",
       "      <th>17</th>\n",
       "      <td>ValorTotalDetalle</td>\n",
       "      <td>0.034053</td>\n",
       "    </tr>\n",
       "    <tr>\n",
       "      <th>5</th>\n",
       "      <td>cmdTotalFactura</td>\n",
       "      <td>0.017694</td>\n",
       "    </tr>\n",
       "    <tr>\n",
       "      <th>1</th>\n",
       "      <td>cmdcuentamedica</td>\n",
       "      <td>0.017448</td>\n",
       "    </tr>\n",
       "    <tr>\n",
       "      <th>24</th>\n",
       "      <td>DANEAfiliado</td>\n",
       "      <td>0.011380</td>\n",
       "    </tr>\n",
       "    <tr>\n",
       "      <th>22</th>\n",
       "      <td>IdAfiliado</td>\n",
       "      <td>0.009735</td>\n",
       "    </tr>\n",
       "    <tr>\n",
       "      <th>34</th>\n",
       "      <td>esContratoEspecial</td>\n",
       "      <td>0.008881</td>\n",
       "    </tr>\n",
       "    <tr>\n",
       "      <th>3</th>\n",
       "      <td>dprIDDetallePrestacion</td>\n",
       "      <td>0.008704</td>\n",
       "    </tr>\n",
       "    <tr>\n",
       "      <th>28</th>\n",
       "      <td>Edad</td>\n",
       "      <td>0.008603</td>\n",
       "    </tr>\n",
       "    <tr>\n",
       "      <th>6</th>\n",
       "      <td>FAC_VATO</td>\n",
       "      <td>0.008158</td>\n",
       "    </tr>\n",
       "    <tr>\n",
       "      <th>16</th>\n",
       "      <td>dprcantproducto</td>\n",
       "      <td>0.006918</td>\n",
       "    </tr>\n",
       "    <tr>\n",
       "      <th>7</th>\n",
       "      <td>ValTotalPago</td>\n",
       "      <td>0.006793</td>\n",
       "    </tr>\n",
       "    <tr>\n",
       "      <th>2</th>\n",
       "      <td>prsIDPrestacion</td>\n",
       "      <td>0.006307</td>\n",
       "    </tr>\n",
       "    <tr>\n",
       "      <th>32</th>\n",
       "      <td>prsTipoAtencion</td>\n",
       "      <td>0.005414</td>\n",
       "    </tr>\n",
       "    <tr>\n",
       "      <th>14</th>\n",
       "      <td>idCobertura</td>\n",
       "      <td>0.005096</td>\n",
       "    </tr>\n",
       "    <tr>\n",
       "      <th>13</th>\n",
       "      <td>idAmbito</td>\n",
       "      <td>0.003797</td>\n",
       "    </tr>\n",
       "    <tr>\n",
       "      <th>29</th>\n",
       "      <td>idGrupoEtareo</td>\n",
       "      <td>0.003321</td>\n",
       "    </tr>\n",
       "    <tr>\n",
       "      <th>26</th>\n",
       "      <td>RazonEstadoAfiliacion</td>\n",
       "      <td>0.002376</td>\n",
       "    </tr>\n",
       "    <tr>\n",
       "      <th>27</th>\n",
       "      <td>IdTipoAfiliado</td>\n",
       "      <td>0.002115</td>\n",
       "    </tr>\n",
       "    <tr>\n",
       "      <th>0</th>\n",
       "      <td>EPS</td>\n",
       "      <td>0.001291</td>\n",
       "    </tr>\n",
       "    <tr>\n",
       "      <th>23</th>\n",
       "      <td>Genero</td>\n",
       "      <td>0.001184</td>\n",
       "    </tr>\n",
       "    <tr>\n",
       "      <th>25</th>\n",
       "      <td>EstadoAfiliacion</td>\n",
       "      <td>0.001139</td>\n",
       "    </tr>\n",
       "    <tr>\n",
       "      <th>12</th>\n",
       "      <td>idEstadoCuenta</td>\n",
       "      <td>0.000524</td>\n",
       "    </tr>\n",
       "    <tr>\n",
       "      <th>21</th>\n",
       "      <td>prsVistoBueno</td>\n",
       "      <td>0.000353</td>\n",
       "    </tr>\n",
       "    <tr>\n",
       "      <th>20</th>\n",
       "      <td>prsgrabada</td>\n",
       "      <td>0.000340</td>\n",
       "    </tr>\n",
       "    <tr>\n",
       "      <th>33</th>\n",
       "      <td>idTipoCuenta</td>\n",
       "      <td>0.000164</td>\n",
       "    </tr>\n",
       "    <tr>\n",
       "      <th>37</th>\n",
       "      <td>sss1</td>\n",
       "      <td>0.000036</td>\n",
       "    </tr>\n",
       "    <tr>\n",
       "      <th>38</th>\n",
       "      <td>sss2</td>\n",
       "      <td>0.000026</td>\n",
       "    </tr>\n",
       "    <tr>\n",
       "      <th>39</th>\n",
       "      <td>ssd1</td>\n",
       "      <td>0.000022</td>\n",
       "    </tr>\n",
       "    <tr>\n",
       "      <th>19</th>\n",
       "      <td>dprVlrModeradora</td>\n",
       "      <td>0.000014</td>\n",
       "    </tr>\n",
       "    <tr>\n",
       "      <th>40</th>\n",
       "      <td>ssd2</td>\n",
       "      <td>0.000010</td>\n",
       "    </tr>\n",
       "    <tr>\n",
       "      <th>18</th>\n",
       "      <td>dprVlrCopago</td>\n",
       "      <td>0.000000</td>\n",
       "    </tr>\n",
       "    <tr>\n",
       "      <th>11</th>\n",
       "      <td>cmdTotalICO</td>\n",
       "      <td>0.000000</td>\n",
       "    </tr>\n",
       "    <tr>\n",
       "      <th>10</th>\n",
       "      <td>cmdTotalReteIca</td>\n",
       "      <td>0.000000</td>\n",
       "    </tr>\n",
       "    <tr>\n",
       "      <th>9</th>\n",
       "      <td>cmdTotalReteFuente</td>\n",
       "      <td>0.000000</td>\n",
       "    </tr>\n",
       "    <tr>\n",
       "      <th>8</th>\n",
       "      <td>cmdTotalIva</td>\n",
       "      <td>0.000000</td>\n",
       "    </tr>\n",
       "  </tbody>\n",
       "</table>\n",
       "</div>"
      ],
      "text/plain": [
       "                      predictor  importancia\n",
       "31               CodigoServicio     0.432815\n",
       "15               dprvlrproducto     0.227971\n",
       "35                        idNit     0.049404\n",
       "4              cmdNumeroFactura     0.040533\n",
       "36  CodigoDANEDeptoMunPrestador     0.039792\n",
       "30               idTipoProducto     0.037587\n",
       "17            ValorTotalDetalle     0.034053\n",
       "5               cmdTotalFactura     0.017694\n",
       "1               cmdcuentamedica     0.017448\n",
       "24                 DANEAfiliado     0.011380\n",
       "22                   IdAfiliado     0.009735\n",
       "34           esContratoEspecial     0.008881\n",
       "3        dprIDDetallePrestacion     0.008704\n",
       "28                         Edad     0.008603\n",
       "6                      FAC_VATO     0.008158\n",
       "16              dprcantproducto     0.006918\n",
       "7                  ValTotalPago     0.006793\n",
       "2               prsIDPrestacion     0.006307\n",
       "32              prsTipoAtencion     0.005414\n",
       "14                  idCobertura     0.005096\n",
       "13                     idAmbito     0.003797\n",
       "29                idGrupoEtareo     0.003321\n",
       "26        RazonEstadoAfiliacion     0.002376\n",
       "27               IdTipoAfiliado     0.002115\n",
       "0                           EPS     0.001291\n",
       "23                       Genero     0.001184\n",
       "25             EstadoAfiliacion     0.001139\n",
       "12               idEstadoCuenta     0.000524\n",
       "21                prsVistoBueno     0.000353\n",
       "20                   prsgrabada     0.000340\n",
       "33                 idTipoCuenta     0.000164\n",
       "37                         sss1     0.000036\n",
       "38                         sss2     0.000026\n",
       "39                         ssd1     0.000022\n",
       "19             dprVlrModeradora     0.000014\n",
       "40                         ssd2     0.000010\n",
       "18                 dprVlrCopago     0.000000\n",
       "11                  cmdTotalICO     0.000000\n",
       "10              cmdTotalReteIca     0.000000\n",
       "9            cmdTotalReteFuente     0.000000\n",
       "8                   cmdTotalIva     0.000000"
      ]
     },
     "execution_count": 21,
     "metadata": {
      "tags": []
     },
     "output_type": "execute_result"
    }
   ],
   "source": [
    "print(\"Importancia de los predictores en el modelo\")\n",
    "print(\"-------------------------------------------\")\n",
    "importancia_predictores = pd.DataFrame(\n",
    "                            {'predictor': datos[datos.columns[0:41]].columns.tolist(),\n",
    "                             'importancia': modelo_final.feature_importances_}\n",
    "                            )\n",
    "importancia_predictores.sort_values('importancia', ascending=False)\n",
    "\n",
    "# datos.columns.tolist()"
   ]
  }
 ],
 "metadata": {
  "celltoolbar": "Slideshow",
  "colab": {
   "name": "Presentación_Proyecto_28052021.ipynb",
   "provenance": []
  },
  "kernelspec": {
   "display_name": "Python 3",
   "language": "python",
   "name": "python3"
  },
  "language_info": {
   "codemirror_mode": {
    "name": "ipython",
    "version": 3
   },
   "file_extension": ".py",
   "mimetype": "text/x-python",
   "name": "python",
   "nbconvert_exporter": "python",
   "pygments_lexer": "ipython3",
   "version": "3.8.3"
  }
 },
 "nbformat": 4,
 "nbformat_minor": 1
}
