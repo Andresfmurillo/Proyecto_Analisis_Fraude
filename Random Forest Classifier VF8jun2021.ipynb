{
 "cells": [
  {
   "cell_type": "code",
   "execution_count": 1,
   "metadata": {},
   "outputs": [],
   "source": [
    "import warnings\n",
    "warnings.filterwarnings('once')"
   ]
  },
  {
   "cell_type": "code",
   "execution_count": 2,
   "metadata": {},
   "outputs": [],
   "source": [
    "%matplotlib inline\n",
    "import matplotlib.pyplot as plt\n",
    "import seaborn as sns; sns.set()  # for plot styling\n",
    "import numpy as np"
   ]
  },
  {
   "cell_type": "code",
   "execution_count": 3,
   "metadata": {},
   "outputs": [],
   "source": [
    "import pandas as pd"
   ]
  },
  {
   "cell_type": "code",
   "execution_count": 4,
   "metadata": {},
   "outputs": [],
   "source": [
    "datos = pd.read_csv(\"/Users/andresfelipemurilloavendano/Documents/2. CASO_Semestre_Analitica 2021-I/DataSetMuestraProyectoKL_v7may2021.txt\", \n",
    "                 sep = \"|\", encoding = \"latin-1\", decimal = ',', error_bad_lines = False, dtype={'a': np.float32})"
   ]
  },
  {
   "cell_type": "code",
   "execution_count": 5,
   "metadata": {},
   "outputs": [
    {
     "name": "stdout",
     "output_type": "stream",
     "text": [
      "<class 'pandas.core.frame.DataFrame'>\n",
      "RangeIndex: 1730042 entries, 0 to 1730041\n",
      "Data columns (total 81 columns):\n",
      " #   Column                       Dtype  \n",
      "---  ------                       -----  \n",
      " 0   EPS                          int64  \n",
      " 1   cmdcuentamedica              int64  \n",
      " 2   prsIDPrestacion              int64  \n",
      " 3   dprIDDetallePrestacion       int64  \n",
      " 4   cmdPrefijoFactura            object \n",
      " 5   cmdNumeroFactura             int64  \n",
      " 6   PrNumFactu1                  object \n",
      " 7   PrNumFactu2                  object \n",
      " 8   cmdFchEmisionFactura         object \n",
      " 9   cmdfchradicacion             object \n",
      " 10  cmdTotalFactura              float64\n",
      " 11  FAC_FECH                     object \n",
      " 12  FAC_ESTA                     object \n",
      " 13  FAC_VATO                     float64\n",
      " 14  FecPagoReciente              object \n",
      " 15  ValTotalPago                 float64\n",
      " 16  cmdTotalIva                  int64  \n",
      " 17  cmdTotalReteFuente           int64  \n",
      " 18  cmdTotalReteIca              int64  \n",
      " 19  cmdTotalICO                  int64  \n",
      " 20  idEstadoCuenta               int64  \n",
      " 21  NombreEstadoCuenta           object \n",
      " 22  cafRadOtroOperador           object \n",
      " 23  idAmbito                     int64  \n",
      " 24  NombreAmbito                 object \n",
      " 25  idCobertura                  int64  \n",
      " 26  NombreCobertura              object \n",
      " 27  prsFchEntrada                object \n",
      " 28  prsFchSalida                 object \n",
      " 29  dprvlrproducto               float64\n",
      " 30  dprcantproducto              float64\n",
      " 31  ValorTotalDetalle            float64\n",
      " 32  dprVlrCopago                 float64\n",
      " 33  dprVlrModeradora             float64\n",
      " 34  prsgrabada                   int64  \n",
      " 35  prsVistoBueno                int64  \n",
      " 36  prsFechaVistoBueno           object \n",
      " 37  IdAfiliado                   float64\n",
      " 38  FechaNacimiento              object \n",
      " 39  Genero                       float64\n",
      " 40  GeneroID                     object \n",
      " 41  DANEAfiliado                 float64\n",
      " 42  FechaRadicacion              object \n",
      " 43  FechaAfiliacion              object \n",
      " 44  FechaRetiro                  object \n",
      " 45  EstadoAfiliacion             float64\n",
      " 46  DescripcionEstado            object \n",
      " 47  RazonEstadoAfiliacion        float64\n",
      " 48  DescripcionRazon             object \n",
      " 49  EstadoBDUA                   object \n",
      " 50  Cohorte                      object \n",
      " 51  IdTipoAfiliado               float64\n",
      " 52  TipoAfiliado                 object \n",
      " 53  Edad                         float64\n",
      " 54  idGrupoEtareo                float64\n",
      " 55  NombreGrupoEtareo            object \n",
      " 56  idTipoProducto               float64\n",
      " 57  NombreTipoProducto           object \n",
      " 58  CodigoServicio               int64  \n",
      " 59  DescripcionServicio          object \n",
      " 60  Tipo_Cod                     object \n",
      " 61  Codigo                       object \n",
      " 62  Descripcion_Cups_Cum         object \n",
      " 63  Seccion                      object \n",
      " 64  Servicio                     object \n",
      " 65  Agrupador2NTP                object \n",
      " 66  Especialidad                 object \n",
      " 67  prsTipoAtencion              float64\n",
      " 68  tatDescAtencion              object \n",
      " 69  idTipoCuenta                 int64  \n",
      " 70  NombreTipoCuenta             object \n",
      " 71  esContratoEspecial           bool   \n",
      " 72  idNit                        int64  \n",
      " 73  CodigoDANEDeptoMunPrestador  int64  \n",
      " 74  dxIDHomolDiag                object \n",
      " 75  dxDescripcion                object \n",
      " 76  sss1                         bool   \n",
      " 77  sss2                         bool   \n",
      " 78  ssd1                         bool   \n",
      " 79  ssd2                         bool   \n",
      " 80  ValUnitAt                    bool   \n",
      "dtypes: bool(6), float64(18), int64(18), object(39)\n",
      "memory usage: 999.8+ MB\n"
     ]
    }
   ],
   "source": [
    "datos.info()"
   ]
  },
  {
   "cell_type": "code",
   "execution_count": 6,
   "metadata": {},
   "outputs": [
    {
     "data": {
      "text/plain": [
       "(1730042, 81)"
      ]
     },
     "execution_count": 6,
     "metadata": {},
     "output_type": "execute_result"
    }
   ],
   "source": [
    "datos.shape"
   ]
  },
  {
   "cell_type": "code",
   "execution_count": 7,
   "metadata": {},
   "outputs": [
    {
     "data": {
      "text/html": [
       "<div>\n",
       "<style scoped>\n",
       "    .dataframe tbody tr th:only-of-type {\n",
       "        vertical-align: middle;\n",
       "    }\n",
       "\n",
       "    .dataframe tbody tr th {\n",
       "        vertical-align: top;\n",
       "    }\n",
       "\n",
       "    .dataframe thead th {\n",
       "        text-align: right;\n",
       "    }\n",
       "</style>\n",
       "<table border=\"1\" class=\"dataframe\">\n",
       "  <thead>\n",
       "    <tr style=\"text-align: right;\">\n",
       "      <th></th>\n",
       "      <th>EPS</th>\n",
       "      <th>cmdcuentamedica</th>\n",
       "      <th>prsIDPrestacion</th>\n",
       "      <th>dprIDDetallePrestacion</th>\n",
       "      <th>cmdNumeroFactura</th>\n",
       "      <th>cmdTotalFactura</th>\n",
       "      <th>FAC_VATO</th>\n",
       "      <th>ValTotalPago</th>\n",
       "      <th>cmdTotalIva</th>\n",
       "      <th>cmdTotalReteFuente</th>\n",
       "      <th>...</th>\n",
       "      <th>RazonEstadoAfiliacion</th>\n",
       "      <th>IdTipoAfiliado</th>\n",
       "      <th>Edad</th>\n",
       "      <th>idGrupoEtareo</th>\n",
       "      <th>idTipoProducto</th>\n",
       "      <th>CodigoServicio</th>\n",
       "      <th>prsTipoAtencion</th>\n",
       "      <th>idTipoCuenta</th>\n",
       "      <th>idNit</th>\n",
       "      <th>CodigoDANEDeptoMunPrestador</th>\n",
       "    </tr>\n",
       "  </thead>\n",
       "  <tbody>\n",
       "    <tr>\n",
       "      <th>count</th>\n",
       "      <td>1.730042e+06</td>\n",
       "      <td>1.730042e+06</td>\n",
       "      <td>1.730042e+06</td>\n",
       "      <td>1.730042e+06</td>\n",
       "      <td>1.730042e+06</td>\n",
       "      <td>1.730042e+06</td>\n",
       "      <td>1.407201e+06</td>\n",
       "      <td>1.019641e+06</td>\n",
       "      <td>1.730042e+06</td>\n",
       "      <td>1730042.0</td>\n",
       "      <td>...</td>\n",
       "      <td>1.700904e+06</td>\n",
       "      <td>1.700904e+06</td>\n",
       "      <td>1.700904e+06</td>\n",
       "      <td>1.700966e+06</td>\n",
       "      <td>1.696690e+06</td>\n",
       "      <td>1.730042e+06</td>\n",
       "      <td>1.728723e+06</td>\n",
       "      <td>1.730042e+06</td>\n",
       "      <td>1.730042e+06</td>\n",
       "      <td>1.730042e+06</td>\n",
       "    </tr>\n",
       "    <tr>\n",
       "      <th>mean</th>\n",
       "      <td>1.814337e+00</td>\n",
       "      <td>9.938650e+06</td>\n",
       "      <td>2.802686e+07</td>\n",
       "      <td>9.126870e+07</td>\n",
       "      <td>1.302175e+10</td>\n",
       "      <td>1.155697e+07</td>\n",
       "      <td>1.015196e+07</td>\n",
       "      <td>7.484830e+06</td>\n",
       "      <td>9.102068e-01</td>\n",
       "      <td>0.0</td>\n",
       "      <td>...</td>\n",
       "      <td>2.876032e+00</td>\n",
       "      <td>3.520599e+00</td>\n",
       "      <td>4.820564e+01</td>\n",
       "      <td>8.815782e+00</td>\n",
       "      <td>3.214312e+00</td>\n",
       "      <td>1.156666e+05</td>\n",
       "      <td>4.019356e+01</td>\n",
       "      <td>2.002963e+00</td>\n",
       "      <td>6.566200e+02</td>\n",
       "      <td>4.732413e+04</td>\n",
       "    </tr>\n",
       "    <tr>\n",
       "      <th>std</th>\n",
       "      <td>1.001435e+00</td>\n",
       "      <td>6.072986e+06</td>\n",
       "      <td>1.229509e+07</td>\n",
       "      <td>4.207036e+07</td>\n",
       "      <td>3.597187e+11</td>\n",
       "      <td>2.251500e+07</td>\n",
       "      <td>2.051927e+07</td>\n",
       "      <td>1.391679e+07</td>\n",
       "      <td>2.413122e+02</td>\n",
       "      <td>0.0</td>\n",
       "      <td>...</td>\n",
       "      <td>3.364576e+00</td>\n",
       "      <td>2.453134e+00</td>\n",
       "      <td>2.421665e+01</td>\n",
       "      <td>3.589033e+00</td>\n",
       "      <td>2.768391e+00</td>\n",
       "      <td>1.256987e+05</td>\n",
       "      <td>2.086410e+01</td>\n",
       "      <td>1.048268e-01</td>\n",
       "      <td>3.505006e+02</td>\n",
       "      <td>2.520575e+04</td>\n",
       "    </tr>\n",
       "    <tr>\n",
       "      <th>min</th>\n",
       "      <td>1.000000e+00</td>\n",
       "      <td>7.271830e+05</td>\n",
       "      <td>8.675167e+06</td>\n",
       "      <td>0.000000e+00</td>\n",
       "      <td>1.000000e+00</td>\n",
       "      <td>1.000000e+00</td>\n",
       "      <td>1.000000e+00</td>\n",
       "      <td>1.600000e-01</td>\n",
       "      <td>0.000000e+00</td>\n",
       "      <td>0.0</td>\n",
       "      <td>...</td>\n",
       "      <td>1.000000e+00</td>\n",
       "      <td>1.000000e+00</td>\n",
       "      <td>0.000000e+00</td>\n",
       "      <td>1.000000e+00</td>\n",
       "      <td>1.000000e+00</td>\n",
       "      <td>0.000000e+00</td>\n",
       "      <td>2.000000e+00</td>\n",
       "      <td>1.000000e+00</td>\n",
       "      <td>1.000000e+00</td>\n",
       "      <td>5.001000e+03</td>\n",
       "    </tr>\n",
       "    <tr>\n",
       "      <th>25%</th>\n",
       "      <td>1.000000e+00</td>\n",
       "      <td>4.074959e+06</td>\n",
       "      <td>1.064253e+07</td>\n",
       "      <td>3.272340e+07</td>\n",
       "      <td>4.179000e+04</td>\n",
       "      <td>7.662980e+05</td>\n",
       "      <td>6.668390e+05</td>\n",
       "      <td>6.542490e+05</td>\n",
       "      <td>0.000000e+00</td>\n",
       "      <td>0.0</td>\n",
       "      <td>...</td>\n",
       "      <td>1.000000e+00</td>\n",
       "      <td>1.000000e+00</td>\n",
       "      <td>2.900000e+01</td>\n",
       "      <td>6.000000e+00</td>\n",
       "      <td>1.000000e+00</td>\n",
       "      <td>2.332000e+03</td>\n",
       "      <td>2.300000e+01</td>\n",
       "      <td>2.000000e+00</td>\n",
       "      <td>4.000000e+02</td>\n",
       "      <td>1.700100e+04</td>\n",
       "    </tr>\n",
       "    <tr>\n",
       "      <th>50%</th>\n",
       "      <td>1.000000e+00</td>\n",
       "      <td>1.379364e+07</td>\n",
       "      <td>3.530229e+07</td>\n",
       "      <td>1.147016e+08</td>\n",
       "      <td>4.059580e+05</td>\n",
       "      <td>3.195930e+06</td>\n",
       "      <td>2.860510e+06</td>\n",
       "      <td>2.454509e+06</td>\n",
       "      <td>0.000000e+00</td>\n",
       "      <td>0.0</td>\n",
       "      <td>...</td>\n",
       "      <td>2.000000e+00</td>\n",
       "      <td>2.000000e+00</td>\n",
       "      <td>4.900000e+01</td>\n",
       "      <td>8.000000e+00</td>\n",
       "      <td>2.000000e+00</td>\n",
       "      <td>4.729600e+04</td>\n",
       "      <td>4.400000e+01</td>\n",
       "      <td>2.000000e+00</td>\n",
       "      <td>7.080000e+02</td>\n",
       "      <td>5.283500e+04</td>\n",
       "    </tr>\n",
       "    <tr>\n",
       "      <th>75%</th>\n",
       "      <td>3.000000e+00</td>\n",
       "      <td>1.531362e+07</td>\n",
       "      <td>3.710329e+07</td>\n",
       "      <td>1.229585e+08</td>\n",
       "      <td>2.033225e+06</td>\n",
       "      <td>1.238829e+07</td>\n",
       "      <td>1.018348e+07</td>\n",
       "      <td>7.863457e+06</td>\n",
       "      <td>0.000000e+00</td>\n",
       "      <td>0.0</td>\n",
       "      <td>...</td>\n",
       "      <td>2.000000e+00</td>\n",
       "      <td>6.000000e+00</td>\n",
       "      <td>6.800000e+01</td>\n",
       "      <td>1.200000e+01</td>\n",
       "      <td>2.000000e+00</td>\n",
       "      <td>2.080610e+05</td>\n",
       "      <td>6.000000e+01</td>\n",
       "      <td>2.000000e+00</td>\n",
       "      <td>9.280000e+02</td>\n",
       "      <td>6.800100e+04</td>\n",
       "    </tr>\n",
       "    <tr>\n",
       "      <th>max</th>\n",
       "      <td>4.000000e+00</td>\n",
       "      <td>1.720576e+07</td>\n",
       "      <td>3.927962e+07</td>\n",
       "      <td>1.317382e+08</td>\n",
       "      <td>1.001000e+13</td>\n",
       "      <td>1.595515e+09</td>\n",
       "      <td>1.467874e+09</td>\n",
       "      <td>6.701159e+08</td>\n",
       "      <td>7.568100e+04</td>\n",
       "      <td>0.0</td>\n",
       "      <td>...</td>\n",
       "      <td>2.300000e+01</td>\n",
       "      <td>7.000000e+00</td>\n",
       "      <td>1.090000e+02</td>\n",
       "      <td>1.400000e+01</td>\n",
       "      <td>8.000000e+00</td>\n",
       "      <td>4.263360e+05</td>\n",
       "      <td>8.700000e+01</td>\n",
       "      <td>8.000000e+00</td>\n",
       "      <td>1.217000e+03</td>\n",
       "      <td>9.977300e+04</td>\n",
       "    </tr>\n",
       "  </tbody>\n",
       "</table>\n",
       "<p>8 rows × 36 columns</p>\n",
       "</div>"
      ],
      "text/plain": [
       "                EPS  cmdcuentamedica  prsIDPrestacion  dprIDDetallePrestacion  \\\n",
       "count  1.730042e+06     1.730042e+06     1.730042e+06            1.730042e+06   \n",
       "mean   1.814337e+00     9.938650e+06     2.802686e+07            9.126870e+07   \n",
       "std    1.001435e+00     6.072986e+06     1.229509e+07            4.207036e+07   \n",
       "min    1.000000e+00     7.271830e+05     8.675167e+06            0.000000e+00   \n",
       "25%    1.000000e+00     4.074959e+06     1.064253e+07            3.272340e+07   \n",
       "50%    1.000000e+00     1.379364e+07     3.530229e+07            1.147016e+08   \n",
       "75%    3.000000e+00     1.531362e+07     3.710329e+07            1.229585e+08   \n",
       "max    4.000000e+00     1.720576e+07     3.927962e+07            1.317382e+08   \n",
       "\n",
       "       cmdNumeroFactura  cmdTotalFactura      FAC_VATO  ValTotalPago  \\\n",
       "count      1.730042e+06     1.730042e+06  1.407201e+06  1.019641e+06   \n",
       "mean       1.302175e+10     1.155697e+07  1.015196e+07  7.484830e+06   \n",
       "std        3.597187e+11     2.251500e+07  2.051927e+07  1.391679e+07   \n",
       "min        1.000000e+00     1.000000e+00  1.000000e+00  1.600000e-01   \n",
       "25%        4.179000e+04     7.662980e+05  6.668390e+05  6.542490e+05   \n",
       "50%        4.059580e+05     3.195930e+06  2.860510e+06  2.454509e+06   \n",
       "75%        2.033225e+06     1.238829e+07  1.018348e+07  7.863457e+06   \n",
       "max        1.001000e+13     1.595515e+09  1.467874e+09  6.701159e+08   \n",
       "\n",
       "        cmdTotalIva  cmdTotalReteFuente  ...  RazonEstadoAfiliacion  \\\n",
       "count  1.730042e+06           1730042.0  ...           1.700904e+06   \n",
       "mean   9.102068e-01                 0.0  ...           2.876032e+00   \n",
       "std    2.413122e+02                 0.0  ...           3.364576e+00   \n",
       "min    0.000000e+00                 0.0  ...           1.000000e+00   \n",
       "25%    0.000000e+00                 0.0  ...           1.000000e+00   \n",
       "50%    0.000000e+00                 0.0  ...           2.000000e+00   \n",
       "75%    0.000000e+00                 0.0  ...           2.000000e+00   \n",
       "max    7.568100e+04                 0.0  ...           2.300000e+01   \n",
       "\n",
       "       IdTipoAfiliado          Edad  idGrupoEtareo  idTipoProducto  \\\n",
       "count    1.700904e+06  1.700904e+06   1.700966e+06    1.696690e+06   \n",
       "mean     3.520599e+00  4.820564e+01   8.815782e+00    3.214312e+00   \n",
       "std      2.453134e+00  2.421665e+01   3.589033e+00    2.768391e+00   \n",
       "min      1.000000e+00  0.000000e+00   1.000000e+00    1.000000e+00   \n",
       "25%      1.000000e+00  2.900000e+01   6.000000e+00    1.000000e+00   \n",
       "50%      2.000000e+00  4.900000e+01   8.000000e+00    2.000000e+00   \n",
       "75%      6.000000e+00  6.800000e+01   1.200000e+01    2.000000e+00   \n",
       "max      7.000000e+00  1.090000e+02   1.400000e+01    8.000000e+00   \n",
       "\n",
       "       CodigoServicio  prsTipoAtencion  idTipoCuenta         idNit  \\\n",
       "count    1.730042e+06     1.728723e+06  1.730042e+06  1.730042e+06   \n",
       "mean     1.156666e+05     4.019356e+01  2.002963e+00  6.566200e+02   \n",
       "std      1.256987e+05     2.086410e+01  1.048268e-01  3.505006e+02   \n",
       "min      0.000000e+00     2.000000e+00  1.000000e+00  1.000000e+00   \n",
       "25%      2.332000e+03     2.300000e+01  2.000000e+00  4.000000e+02   \n",
       "50%      4.729600e+04     4.400000e+01  2.000000e+00  7.080000e+02   \n",
       "75%      2.080610e+05     6.000000e+01  2.000000e+00  9.280000e+02   \n",
       "max      4.263360e+05     8.700000e+01  8.000000e+00  1.217000e+03   \n",
       "\n",
       "       CodigoDANEDeptoMunPrestador  \n",
       "count                 1.730042e+06  \n",
       "mean                  4.732413e+04  \n",
       "std                   2.520575e+04  \n",
       "min                   5.001000e+03  \n",
       "25%                   1.700100e+04  \n",
       "50%                   5.283500e+04  \n",
       "75%                   6.800100e+04  \n",
       "max                   9.977300e+04  \n",
       "\n",
       "[8 rows x 36 columns]"
      ]
     },
     "execution_count": 7,
     "metadata": {},
     "output_type": "execute_result"
    }
   ],
   "source": [
    "datos.describe()"
   ]
  },
  {
   "cell_type": "code",
   "execution_count": 8,
   "metadata": {},
   "outputs": [
    {
     "data": {
      "text/plain": [
       "EPS                            0\n",
       "cmdcuentamedica                0\n",
       "prsIDPrestacion                0\n",
       "dprIDDetallePrestacion         0\n",
       "cmdPrefijoFactura         373595\n",
       "                           ...  \n",
       "sss1                           0\n",
       "sss2                           0\n",
       "ssd1                           0\n",
       "ssd2                           0\n",
       "ValUnitAt                      0\n",
       "Length: 81, dtype: int64"
      ]
     },
     "execution_count": 8,
     "metadata": {},
     "output_type": "execute_result"
    }
   ],
   "source": [
    "datos.isnull().sum()"
   ]
  },
  {
   "cell_type": "code",
   "execution_count": 9,
   "metadata": {},
   "outputs": [],
   "source": [
    "#transformo los datos True y False a 1 y 0 respectivamente\n",
    "datos['ValUnitAt'] = datos['ValUnitAt'].astype(int)\n",
    "datos['sss1'] = datos['sss1'].astype(int)\n",
    "datos['sss2'] = datos['sss2'].astype(int)\n",
    "datos['ssd1'] = datos['ssd1'].astype(int)\n",
    "datos['ssd2'] = datos['ssd2'].astype(int)\n",
    "datos['esContratoEspecial'] = datos['esContratoEspecial'].astype(int)"
   ]
  },
  {
   "cell_type": "code",
   "execution_count": 10,
   "metadata": {},
   "outputs": [
    {
     "data": {
      "text/html": [
       "<div>\n",
       "<style scoped>\n",
       "    .dataframe tbody tr th:only-of-type {\n",
       "        vertical-align: middle;\n",
       "    }\n",
       "\n",
       "    .dataframe tbody tr th {\n",
       "        vertical-align: top;\n",
       "    }\n",
       "\n",
       "    .dataframe thead th {\n",
       "        text-align: right;\n",
       "    }\n",
       "</style>\n",
       "<table border=\"1\" class=\"dataframe\">\n",
       "  <thead>\n",
       "    <tr style=\"text-align: right;\">\n",
       "      <th></th>\n",
       "      <th>EPS</th>\n",
       "      <th>cmdcuentamedica</th>\n",
       "      <th>prsIDPrestacion</th>\n",
       "      <th>dprIDDetallePrestacion</th>\n",
       "      <th>cmdNumeroFactura</th>\n",
       "      <th>cmdTotalFactura</th>\n",
       "      <th>FAC_VATO</th>\n",
       "      <th>ValTotalPago</th>\n",
       "      <th>cmdTotalIva</th>\n",
       "      <th>cmdTotalReteFuente</th>\n",
       "      <th>...</th>\n",
       "      <th>prsTipoAtencion</th>\n",
       "      <th>idTipoCuenta</th>\n",
       "      <th>esContratoEspecial</th>\n",
       "      <th>idNit</th>\n",
       "      <th>CodigoDANEDeptoMunPrestador</th>\n",
       "      <th>sss1</th>\n",
       "      <th>sss2</th>\n",
       "      <th>ssd1</th>\n",
       "      <th>ssd2</th>\n",
       "      <th>ValUnitAt</th>\n",
       "    </tr>\n",
       "  </thead>\n",
       "  <tbody>\n",
       "    <tr>\n",
       "      <th>0</th>\n",
       "      <td>3</td>\n",
       "      <td>5015177</td>\n",
       "      <td>10935210</td>\n",
       "      <td>34080638</td>\n",
       "      <td>1833</td>\n",
       "      <td>2022881.0</td>\n",
       "      <td>2022881.0</td>\n",
       "      <td>1705361.0</td>\n",
       "      <td>0</td>\n",
       "      <td>0</td>\n",
       "      <td>...</td>\n",
       "      <td>44.0</td>\n",
       "      <td>2</td>\n",
       "      <td>0</td>\n",
       "      <td>702</td>\n",
       "      <td>17001</td>\n",
       "      <td>0</td>\n",
       "      <td>0</td>\n",
       "      <td>0</td>\n",
       "      <td>0</td>\n",
       "      <td>0</td>\n",
       "    </tr>\n",
       "    <tr>\n",
       "      <th>1</th>\n",
       "      <td>1</td>\n",
       "      <td>15612717</td>\n",
       "      <td>37049102</td>\n",
       "      <td>122636975</td>\n",
       "      <td>904882</td>\n",
       "      <td>76465.0</td>\n",
       "      <td>76465.0</td>\n",
       "      <td>76465.0</td>\n",
       "      <td>0</td>\n",
       "      <td>0</td>\n",
       "      <td>...</td>\n",
       "      <td>2.0</td>\n",
       "      <td>2</td>\n",
       "      <td>0</td>\n",
       "      <td>762</td>\n",
       "      <td>5154</td>\n",
       "      <td>0</td>\n",
       "      <td>0</td>\n",
       "      <td>0</td>\n",
       "      <td>0</td>\n",
       "      <td>1</td>\n",
       "    </tr>\n",
       "    <tr>\n",
       "      <th>2</th>\n",
       "      <td>1</td>\n",
       "      <td>15612717</td>\n",
       "      <td>37049102</td>\n",
       "      <td>122636973</td>\n",
       "      <td>904882</td>\n",
       "      <td>76465.0</td>\n",
       "      <td>76465.0</td>\n",
       "      <td>76465.0</td>\n",
       "      <td>0</td>\n",
       "      <td>0</td>\n",
       "      <td>...</td>\n",
       "      <td>2.0</td>\n",
       "      <td>2</td>\n",
       "      <td>0</td>\n",
       "      <td>762</td>\n",
       "      <td>5154</td>\n",
       "      <td>0</td>\n",
       "      <td>0</td>\n",
       "      <td>0</td>\n",
       "      <td>0</td>\n",
       "      <td>0</td>\n",
       "    </tr>\n",
       "    <tr>\n",
       "      <th>3</th>\n",
       "      <td>1</td>\n",
       "      <td>14219175</td>\n",
       "      <td>34622073</td>\n",
       "      <td>111847983</td>\n",
       "      <td>3425458</td>\n",
       "      <td>49933.0</td>\n",
       "      <td>49933.0</td>\n",
       "      <td>49933.0</td>\n",
       "      <td>0</td>\n",
       "      <td>0</td>\n",
       "      <td>...</td>\n",
       "      <td>2.0</td>\n",
       "      <td>2</td>\n",
       "      <td>0</td>\n",
       "      <td>677</td>\n",
       "      <td>76736</td>\n",
       "      <td>0</td>\n",
       "      <td>0</td>\n",
       "      <td>0</td>\n",
       "      <td>0</td>\n",
       "      <td>0</td>\n",
       "    </tr>\n",
       "    <tr>\n",
       "      <th>4</th>\n",
       "      <td>1</td>\n",
       "      <td>16372641</td>\n",
       "      <td>38155400</td>\n",
       "      <td>127513164</td>\n",
       "      <td>4412959</td>\n",
       "      <td>4073108.0</td>\n",
       "      <td>NaN</td>\n",
       "      <td>NaN</td>\n",
       "      <td>0</td>\n",
       "      <td>0</td>\n",
       "      <td>...</td>\n",
       "      <td>44.0</td>\n",
       "      <td>2</td>\n",
       "      <td>0</td>\n",
       "      <td>359</td>\n",
       "      <td>15753</td>\n",
       "      <td>0</td>\n",
       "      <td>0</td>\n",
       "      <td>0</td>\n",
       "      <td>0</td>\n",
       "      <td>0</td>\n",
       "    </tr>\n",
       "  </tbody>\n",
       "</table>\n",
       "<p>5 rows × 42 columns</p>\n",
       "</div>"
      ],
      "text/plain": [
       "   EPS  cmdcuentamedica  prsIDPrestacion  dprIDDetallePrestacion  \\\n",
       "0    3          5015177         10935210                34080638   \n",
       "1    1         15612717         37049102               122636975   \n",
       "2    1         15612717         37049102               122636973   \n",
       "3    1         14219175         34622073               111847983   \n",
       "4    1         16372641         38155400               127513164   \n",
       "\n",
       "   cmdNumeroFactura  cmdTotalFactura   FAC_VATO  ValTotalPago  cmdTotalIva  \\\n",
       "0              1833        2022881.0  2022881.0     1705361.0            0   \n",
       "1            904882          76465.0    76465.0       76465.0            0   \n",
       "2            904882          76465.0    76465.0       76465.0            0   \n",
       "3           3425458          49933.0    49933.0       49933.0            0   \n",
       "4           4412959        4073108.0        NaN           NaN            0   \n",
       "\n",
       "   cmdTotalReteFuente  ...  prsTipoAtencion  idTipoCuenta  esContratoEspecial  \\\n",
       "0                   0  ...             44.0             2                   0   \n",
       "1                   0  ...              2.0             2                   0   \n",
       "2                   0  ...              2.0             2                   0   \n",
       "3                   0  ...              2.0             2                   0   \n",
       "4                   0  ...             44.0             2                   0   \n",
       "\n",
       "   idNit  CodigoDANEDeptoMunPrestador  sss1  sss2  ssd1  ssd2  ValUnitAt  \n",
       "0    702                        17001     0     0     0     0          0  \n",
       "1    762                         5154     0     0     0     0          1  \n",
       "2    762                         5154     0     0     0     0          0  \n",
       "3    677                        76736     0     0     0     0          0  \n",
       "4    359                        15753     0     0     0     0          0  \n",
       "\n",
       "[5 rows x 42 columns]"
      ]
     },
     "execution_count": 10,
     "metadata": {},
     "output_type": "execute_result"
    }
   ],
   "source": [
    "datos = datos.drop([\"cmdPrefijoFactura\", \"PrNumFactu1\", \"PrNumFactu2\", \"FAC_ESTA\", \"NombreEstadoCuenta\",\n",
    "                     \"cafRadOtroOperador\", \"NombreAmbito\", \"NombreCobertura\", \"GeneroID\",\n",
    "                     \"DescripcionEstado\", \"DescripcionRazon\", \"EstadoBDUA\", \"Cohorte\", \"TipoAfiliado\",\n",
    "                     \"NombreGrupoEtareo\", \"NombreTipoProducto\", \"DescripcionServicio\", \"Tipo_Cod\",\n",
    "                     \"Codigo\", \"Descripcion_Cups_Cum\", \"Seccion\", \"Servicio\", \"Agrupador2NTP\", \"Especialidad\",\n",
    "                     \"tatDescAtencion\", \"NombreTipoCuenta\", \"dxIDHomolDiag\", \"dxDescripcion\", \n",
    "                     \"cmdFchEmisionFactura\", \"cmdfchradicacion\", \"FAC_FECH\", \"FecPagoReciente\", \"prsFchEntrada\",\n",
    "                     \"prsFchSalida\", \"prsFchSalida\", \"prsFechaVistoBueno\", \"FechaNacimiento\", \"FechaRadicacion\",\n",
    "                     \"FechaAfiliacion\", \"FechaRetiro\"], axis=1)\n",
    "datos.head()"
   ]
  },
  {
   "cell_type": "code",
   "execution_count": 11,
   "metadata": {},
   "outputs": [
    {
     "data": {
      "text/plain": [
       "(1730042, 42)"
      ]
     },
     "execution_count": 11,
     "metadata": {},
     "output_type": "execute_result"
    }
   ],
   "source": [
    "datos.shape"
   ]
  },
  {
   "cell_type": "code",
   "execution_count": 12,
   "metadata": {},
   "outputs": [
    {
     "name": "stdout",
     "output_type": "stream",
     "text": [
      "<class 'pandas.core.frame.DataFrame'>\n",
      "RangeIndex: 1730042 entries, 0 to 1730041\n",
      "Data columns (total 42 columns):\n",
      " #   Column                       Dtype  \n",
      "---  ------                       -----  \n",
      " 0   EPS                          int64  \n",
      " 1   cmdcuentamedica              int64  \n",
      " 2   prsIDPrestacion              int64  \n",
      " 3   dprIDDetallePrestacion       int64  \n",
      " 4   cmdNumeroFactura             int64  \n",
      " 5   cmdTotalFactura              float64\n",
      " 6   FAC_VATO                     float64\n",
      " 7   ValTotalPago                 float64\n",
      " 8   cmdTotalIva                  int64  \n",
      " 9   cmdTotalReteFuente           int64  \n",
      " 10  cmdTotalReteIca              int64  \n",
      " 11  cmdTotalICO                  int64  \n",
      " 12  idEstadoCuenta               int64  \n",
      " 13  idAmbito                     int64  \n",
      " 14  idCobertura                  int64  \n",
      " 15  dprvlrproducto               float64\n",
      " 16  dprcantproducto              float64\n",
      " 17  ValorTotalDetalle            float64\n",
      " 18  dprVlrCopago                 float64\n",
      " 19  dprVlrModeradora             float64\n",
      " 20  prsgrabada                   int64  \n",
      " 21  prsVistoBueno                int64  \n",
      " 22  IdAfiliado                   float64\n",
      " 23  Genero                       float64\n",
      " 24  DANEAfiliado                 float64\n",
      " 25  EstadoAfiliacion             float64\n",
      " 26  RazonEstadoAfiliacion        float64\n",
      " 27  IdTipoAfiliado               float64\n",
      " 28  Edad                         float64\n",
      " 29  idGrupoEtareo                float64\n",
      " 30  idTipoProducto               float64\n",
      " 31  CodigoServicio               int64  \n",
      " 32  prsTipoAtencion              float64\n",
      " 33  idTipoCuenta                 int64  \n",
      " 34  esContratoEspecial           int64  \n",
      " 35  idNit                        int64  \n",
      " 36  CodigoDANEDeptoMunPrestador  int64  \n",
      " 37  sss1                         int64  \n",
      " 38  sss2                         int64  \n",
      " 39  ssd1                         int64  \n",
      " 40  ssd2                         int64  \n",
      " 41  ValUnitAt                    int64  \n",
      "dtypes: float64(18), int64(24)\n",
      "memory usage: 554.4 MB\n"
     ]
    }
   ],
   "source": [
    "datos.info()"
   ]
  },
  {
   "cell_type": "code",
   "execution_count": 13,
   "metadata": {},
   "outputs": [
    {
     "data": {
      "text/plain": [
       "0    1417076\n",
       "1     312966\n",
       "Name: ValUnitAt, dtype: int64"
      ]
     },
     "execution_count": 13,
     "metadata": {},
     "output_type": "execute_result"
    }
   ],
   "source": [
    "datos['ValUnitAt'].value_counts()"
   ]
  },
  {
   "cell_type": "code",
   "execution_count": 14,
   "metadata": {},
   "outputs": [
    {
     "data": {
      "text/plain": [
       "EPS                                 0\n",
       "cmdcuentamedica                     0\n",
       "prsIDPrestacion                     0\n",
       "dprIDDetallePrestacion              0\n",
       "cmdNumeroFactura                    0\n",
       "cmdTotalFactura                     0\n",
       "FAC_VATO                       322841\n",
       "ValTotalPago                   710401\n",
       "cmdTotalIva                         0\n",
       "cmdTotalReteFuente                  0\n",
       "cmdTotalReteIca                     0\n",
       "cmdTotalICO                         0\n",
       "idEstadoCuenta                      0\n",
       "idAmbito                            0\n",
       "idCobertura                         0\n",
       "dprvlrproducto                      0\n",
       "dprcantproducto                     0\n",
       "ValorTotalDetalle                   0\n",
       "dprVlrCopago                        2\n",
       "dprVlrModeradora                    2\n",
       "prsgrabada                          0\n",
       "prsVistoBueno                       0\n",
       "IdAfiliado                      29138\n",
       "Genero                          29138\n",
       "DANEAfiliado                    29138\n",
       "EstadoAfiliacion                29138\n",
       "RazonEstadoAfiliacion           29138\n",
       "IdTipoAfiliado                  29138\n",
       "Edad                            29138\n",
       "idGrupoEtareo                   29076\n",
       "idTipoProducto                  33352\n",
       "CodigoServicio                      0\n",
       "prsTipoAtencion                  1319\n",
       "idTipoCuenta                        0\n",
       "esContratoEspecial                  0\n",
       "idNit                               0\n",
       "CodigoDANEDeptoMunPrestador         0\n",
       "sss1                                0\n",
       "sss2                                0\n",
       "ssd1                                0\n",
       "ssd2                                0\n",
       "ValUnitAt                           0\n",
       "dtype: int64"
      ]
     },
     "execution_count": 14,
     "metadata": {},
     "output_type": "execute_result"
    }
   ],
   "source": [
    "datos.isnull().sum()"
   ]
  },
  {
   "cell_type": "code",
   "execution_count": 15,
   "metadata": {},
   "outputs": [],
   "source": [
    "# datos = datos.dropna()"
   ]
  },
  {
   "cell_type": "code",
   "execution_count": 16,
   "metadata": {},
   "outputs": [],
   "source": [
    "datos = datos.replace(np.nan,'0')"
   ]
  },
  {
   "cell_type": "code",
   "execution_count": 17,
   "metadata": {},
   "outputs": [
    {
     "data": {
      "text/plain": [
       "(1730042, 42)"
      ]
     },
     "execution_count": 17,
     "metadata": {},
     "output_type": "execute_result"
    }
   ],
   "source": [
    "datos.shape"
   ]
  },
  {
   "cell_type": "code",
   "execution_count": 18,
   "metadata": {},
   "outputs": [
    {
     "data": {
      "text/plain": [
       "0    1417076\n",
       "1     312966\n",
       "Name: ValUnitAt, dtype: int64"
      ]
     },
     "execution_count": 18,
     "metadata": {},
     "output_type": "execute_result"
    }
   ],
   "source": [
    "datos['ValUnitAt'].value_counts()"
   ]
  },
  {
   "cell_type": "code",
   "execution_count": 34,
   "metadata": {},
   "outputs": [
    {
     "data": {
      "text/plain": [
       "EPS                            0\n",
       "cmdcuentamedica                0\n",
       "prsIDPrestacion                0\n",
       "dprIDDetallePrestacion         0\n",
       "cmdNumeroFactura               0\n",
       "cmdTotalFactura                0\n",
       "FAC_VATO                       0\n",
       "ValTotalPago                   0\n",
       "cmdTotalIva                    0\n",
       "cmdTotalReteFuente             0\n",
       "cmdTotalReteIca                0\n",
       "cmdTotalICO                    0\n",
       "idEstadoCuenta                 0\n",
       "idAmbito                       0\n",
       "idCobertura                    0\n",
       "dprvlrproducto                 0\n",
       "dprcantproducto                0\n",
       "ValorTotalDetalle              0\n",
       "dprVlrCopago                   0\n",
       "dprVlrModeradora               0\n",
       "prsgrabada                     0\n",
       "prsVistoBueno                  0\n",
       "IdAfiliado                     0\n",
       "Genero                         0\n",
       "DANEAfiliado                   0\n",
       "EstadoAfiliacion               0\n",
       "RazonEstadoAfiliacion          0\n",
       "IdTipoAfiliado                 0\n",
       "Edad                           0\n",
       "idGrupoEtareo                  0\n",
       "idTipoProducto                 0\n",
       "CodigoServicio                 0\n",
       "prsTipoAtencion                0\n",
       "idTipoCuenta                   0\n",
       "esContratoEspecial             0\n",
       "idNit                          0\n",
       "CodigoDANEDeptoMunPrestador    0\n",
       "sss1                           0\n",
       "sss2                           0\n",
       "ssd1                           0\n",
       "ssd2                           0\n",
       "ValUnitAt                      0\n",
       "dtype: int64"
      ]
     },
     "execution_count": 34,
     "metadata": {},
     "output_type": "execute_result"
    }
   ],
   "source": [
    "datos.isnull().sum()"
   ]
  },
  {
   "cell_type": "markdown",
   "metadata": {},
   "source": [
    "## Seleccionar el vector de características y la variable objetivo"
   ]
  },
  {
   "cell_type": "code",
   "execution_count": 19,
   "metadata": {},
   "outputs": [],
   "source": [
    "X = datos.drop(['ValUnitAt'], axis=1)\n",
    "\n",
    "y = datos['ValUnitAt']"
   ]
  },
  {
   "cell_type": "code",
   "execution_count": 20,
   "metadata": {},
   "outputs": [],
   "source": [
    "# dividir los datos en conjuntos de entrenamiento y de prueba\n",
    "\n",
    "from sklearn.model_selection import train_test_split\n",
    "\n",
    "X_train, X_test, y_train, y_test = train_test_split(X, y, test_size = 0.2, random_state = 42)"
   ]
  },
  {
   "cell_type": "code",
   "execution_count": 21,
   "metadata": {},
   "outputs": [
    {
     "data": {
      "text/plain": [
       "((1384033, 41), (346009, 41))"
      ]
     },
     "execution_count": 21,
     "metadata": {},
     "output_type": "execute_result"
    }
   ],
   "source": [
    "# comprobar la forma de X_train y X_test\n",
    "\n",
    "X_train.shape, X_test.shape"
   ]
  },
  {
   "cell_type": "markdown",
   "metadata": {},
   "source": [
    "## Modelo de clasificación Random Forest con parámetros por defecto"
   ]
  },
  {
   "cell_type": "code",
   "execution_count": 22,
   "metadata": {},
   "outputs": [
    {
     "name": "stdout",
     "output_type": "stream",
     "text": [
      "Precisión del accuracy score con 10 arboles de decisión : 0.9092\n"
     ]
    }
   ],
   "source": [
    "# importar el  Random Forest classifier\n",
    "\n",
    "from sklearn.ensemble import RandomForestClassifier\n",
    "\n",
    "rfc = RandomForestClassifier(random_state=0)\n",
    "\n",
    "# ajustar el modelo\n",
    "\n",
    "rfc.fit(X_train, y_train)\n",
    "\n",
    "# Predecir los resultados del conjunto de prueba\n",
    "\n",
    "y_pred = rfc.predict(X_test)\n",
    "\n",
    "# revisar el accuracy score \n",
    "\n",
    "from sklearn.metrics import accuracy_score\n",
    "\n",
    "print('Precisión del accuracy score con 10 arboles de decisión : {0:0.4f}'. format(accuracy_score(y_test, y_pred)))"
   ]
  },
  {
   "cell_type": "markdown",
   "metadata": {},
   "source": [
    "## Modelo de clasificación Random Forest con parámetros n_estimators=100"
   ]
  },
  {
   "cell_type": "code",
   "execution_count": 23,
   "metadata": {},
   "outputs": [
    {
     "name": "stdout",
     "output_type": "stream",
     "text": [
      "Precisión del accuracy score con 100 arboles de decisión: 0.9092\n"
     ]
    }
   ],
   "source": [
    "# probar el clasificador con n_estimators = 100\n",
    "\n",
    "rfc_100 = RandomForestClassifier(n_estimators=100, random_state=0)\n",
    "\n",
    "\n",
    "# ajustar el modelo al conjunto de entrenamiento\n",
    "\n",
    "rfc_100.fit(X_train, y_train)\n",
    "\n",
    "# Predicción de los resultados del conjunto de prueba\n",
    "\n",
    "y_pred_100 = rfc_100.predict(X_test)\n",
    "\n",
    "\n",
    "# revisar el accuracy score \n",
    "\n",
    "print('Precisión del accuracy score con 100 arboles de decisión: {0:0.4f}'. format(accuracy_score(y_test, y_pred_100)))"
   ]
  },
  {
   "cell_type": "code",
   "execution_count": 24,
   "metadata": {},
   "outputs": [
    {
     "data": {
      "text/plain": [
       "RandomForestClassifier(random_state=0)"
      ]
     },
     "execution_count": 24,
     "metadata": {},
     "output_type": "execute_result"
    }
   ],
   "source": [
    "# crear el modelo n_estimators = 100\n",
    "\n",
    "clf = RandomForestClassifier(n_estimators=100, random_state=0)\n",
    "\n",
    "\n",
    "\n",
    "# ajustar el modelo al conjunto de entrenamiento\n",
    "\n",
    "clf.fit(X_train, y_train)"
   ]
  },
  {
   "cell_type": "markdown",
   "metadata": {},
   "source": [
    "## Encontrar características importantes con el modelo Random Forest"
   ]
  },
  {
   "cell_type": "code",
   "execution_count": 25,
   "metadata": {},
   "outputs": [
    {
     "data": {
      "text/plain": [
       "RandomForestClassifier(random_state=0)"
      ]
     },
     "execution_count": 25,
     "metadata": {},
     "output_type": "execute_result"
    }
   ],
   "source": [
    "clf = RandomForestClassifier(n_estimators=100, random_state=0)\n",
    "\n",
    "\n",
    "\n",
    "# ajustar el modelo al conjunto de entrenamiento\n",
    "\n",
    "clf.fit(X_train, y_train)"
   ]
  },
  {
   "cell_type": "code",
   "execution_count": 26,
   "metadata": {
    "scrolled": true
   },
   "outputs": [
    {
     "data": {
      "text/plain": [
       "CodigoServicio                 0.164817\n",
       "dprvlrproducto                 0.156324\n",
       "ValorTotalDetalle              0.119212\n",
       "cmdNumeroFactura               0.051139\n",
       "dprIDDetallePrestacion         0.046818\n",
       "idTipoProducto                 0.039223\n",
       "idNit                          0.038798\n",
       "cmdTotalFactura                0.035871\n",
       "cmdcuentamedica                0.033795\n",
       "dprcantproducto                0.031769\n",
       "CodigoDANEDeptoMunPrestador    0.031239\n",
       "DANEAfiliado                   0.030610\n",
       "prsIDPrestacion                0.030380\n",
       "IdAfiliado                     0.028372\n",
       "FAC_VATO                       0.027425\n",
       "Edad                           0.025602\n",
       "ValTotalPago                   0.021211\n",
       "idGrupoEtareo                  0.015389\n",
       "prsTipoAtencion                0.014657\n",
       "IdTipoAfiliado                 0.008390\n",
       "idCobertura                    0.008055\n",
       "RazonEstadoAfiliacion          0.007852\n",
       "idAmbito                       0.007483\n",
       "Genero                         0.005157\n",
       "EPS                            0.004981\n",
       "EstadoAfiliacion               0.004736\n",
       "esContratoEspecial             0.003695\n",
       "idTipoCuenta                   0.001735\n",
       "prsVistoBueno                  0.001722\n",
       "idEstadoCuenta                 0.001689\n",
       "prsgrabada                     0.001568\n",
       "sss2                           0.000077\n",
       "ssd2                           0.000075\n",
       "dprVlrModeradora               0.000051\n",
       "ssd1                           0.000042\n",
       "sss1                           0.000039\n",
       "cmdTotalIva                    0.000001\n",
       "cmdTotalReteFuente             0.000000\n",
       "cmdTotalReteIca                0.000000\n",
       "cmdTotalICO                    0.000000\n",
       "dprVlrCopago                   0.000000\n",
       "dtype: float64"
      ]
     },
     "execution_count": 26,
     "metadata": {},
     "output_type": "execute_result"
    }
   ],
   "source": [
    "# ver las puntuaciones de las variables\n",
    "\n",
    "feature_scores = pd.Series(clf.feature_importances_, index=X_train.columns).sort_values(ascending=False)\n",
    "\n",
    "feature_scores"
   ]
  },
  {
   "cell_type": "markdown",
   "metadata": {},
   "source": [
    "## Visualizar las puntuaciones de las características"
   ]
  },
  {
   "cell_type": "code",
   "execution_count": 27,
   "metadata": {},
   "outputs": [
    {
     "data": {
      "image/png": "[encoded data removed]",
      "text/plain": [
       "<Figure size 432x288 with 1 Axes>"
      ]
     },
     "metadata": {},
     "output_type": "display_data"
    }
   ],
   "source": [
    "#Creación de un gráfico de seaborn\n",
    "\n",
    "sns.barplot(x=feature_scores, y=feature_scores.index)\n",
    "\n",
    "# agregar las etiquetas al gráfico\n",
    "\n",
    "plt.xlabel('Puntuación de importancia de las variables (Features)')\n",
    "\n",
    "plt.ylabel('Variables - (Features)')\n",
    "\n",
    "plt.title(\"Visualización de caracteristicas (Features) importantes \")\n",
    "\n",
    "# Visualizar el gráfico\n",
    "\n",
    "plt.show()"
   ]
  },
  {
   "cell_type": "markdown",
   "metadata": {},
   "source": [
    "## Construir el modelo Random Forest con las características seleccionadas"
   ]
  },
  {
   "cell_type": "code",
   "execution_count": 28,
   "metadata": {},
   "outputs": [],
   "source": [
    "# seleccionar el vector de características y la variable objetivo, removiendo las que no aportan al modelo\n",
    "\n",
    "X = datos.drop(['ValUnitAt', 'idTipoCuenta', 'dprVlrModeradora', 'ssd2', 'sss2', 'ssd1', 'sss1',\n",
    "               'idEstadoCuenta', 'cmdTotalIva', 'cmdTotalICO', 'cmdTotalReteIca', 'cmdTotalReteFuente',\n",
    "               'dprVlrCopago', 'prsVistoBueno', 'esContratoEspecial', 'prsgrabada'], axis=1)\n",
    "\n",
    "y = datos['ValUnitAt']"
   ]
  },
  {
   "cell_type": "code",
   "execution_count": 29,
   "metadata": {},
   "outputs": [],
   "source": [
    "# dividir los datos en conjuntos de entrenamiento y de prueba\n",
    "\n",
    "from sklearn.model_selection import train_test_split\n",
    "\n",
    "X_train, X_test, y_train, y_test = train_test_split(X, y, test_size = 0.2, random_state = 42)"
   ]
  },
  {
   "cell_type": "markdown",
   "metadata": {},
   "source": [
    "### Ahora, se construirá el modelo de random forest y comprobar la precisión"
   ]
  },
  {
   "cell_type": "code",
   "execution_count": 30,
   "metadata": {},
   "outputs": [
    {
     "name": "stdout",
     "output_type": "stream",
     "text": [
      "Precisión del accuracy score con variables que no aportan al modelo removidas : 0.9269\n"
     ]
    }
   ],
   "source": [
    "# ejecutar el clasificador con n_estimadores = 100\n",
    "\n",
    "clf = RandomForestClassifier(random_state=0)\n",
    "\n",
    "\n",
    "# ajustar el modelo al conjunto de entrenamiento\n",
    "\n",
    "clf.fit(X_train, y_train)\n",
    "\n",
    "\n",
    "# Predicción de los resultados del conjunto de pruebas\n",
    "\n",
    "y_pred = clf.predict(X_test)\n",
    "\n",
    "\n",
    "\n",
    "# Comprobar el puntaje de la precisión (accuracy) \n",
    "\n",
    "print('Precisión del accuracy score con variables que no aportan al modelo removidas : {0:0.4f}'. format(accuracy_score(y_test, y_pred)))"
   ]
  },
  {
   "cell_type": "markdown",
   "metadata": {},
   "source": [
    "## Matriz de Confusión"
   ]
  },
  {
   "cell_type": "code",
   "execution_count": 31,
   "metadata": {},
   "outputs": [
    {
     "name": "stdout",
     "output_type": "stream",
     "text": [
      "Confusion matrix\n",
      "\n",
      " [[278974   4621]\n",
      " [ 20662  41752]]\n"
     ]
    }
   ],
   "source": [
    "# Imprimir la matriz de confusión \n",
    "from sklearn.metrics import confusion_matrix\n",
    "\n",
    "cm = confusion_matrix(y_test, y_pred)\n",
    "\n",
    "print('Confusion matrix\\n\\n', cm)"
   ]
  },
  {
   "cell_type": "code",
   "execution_count": 32,
   "metadata": {},
   "outputs": [
    {
     "data": {
      "image/png": "[encoded data removed]",
      "text/plain": [
       "<Figure size 432x288 with 1 Axes>"
      ]
     },
     "metadata": {},
     "output_type": "display_data"
    }
   ],
   "source": [
    "mat = confusion_matrix(y_test, y_pred)\n",
    "sns.heatmap(mat.T, square=True, annot=True, fmt='d', cbar=False)\n",
    "plt.xlabel('true label')\n",
    "plt.ylabel('predicted label');"
   ]
  },
  {
   "cell_type": "markdown",
   "metadata": {},
   "source": [
    "## Reporte de Clasificación"
   ]
  },
  {
   "cell_type": "code",
   "execution_count": 33,
   "metadata": {},
   "outputs": [
    {
     "name": "stdout",
     "output_type": "stream",
     "text": [
      "              precision    recall  f1-score   support\n",
      "\n",
      "           0       0.93      0.98      0.96    283595\n",
      "           1       0.90      0.67      0.77     62414\n",
      "\n",
      "    accuracy                           0.93    346009\n",
      "   macro avg       0.92      0.83      0.86    346009\n",
      "weighted avg       0.93      0.93      0.92    346009\n",
      "\n"
     ]
    }
   ],
   "source": [
    "from sklearn.metrics import classification_report\n",
    "\n",
    "print(classification_report(y_test, y_pred))"
   ]
  },
  {
   "cell_type": "code",
   "execution_count": null,
   "metadata": {},
   "outputs": [],
   "source": []
  },
  {
   "cell_type": "code",
   "execution_count": null,
   "metadata": {},
   "outputs": [],
   "source": []
  }
 ],
 "metadata": {
  "kernelspec": {
   "display_name": "Python 3",
   "language": "python",
   "name": "python3"
  },
  "language_info": {
   "codemirror_mode": {
    "name": "ipython",
    "version": 3
   },
   "file_extension": ".py",
   "mimetype": "text/x-python",
   "name": "python",
   "nbconvert_exporter": "python",
   "pygments_lexer": "ipython3",
   "version": "3.8.3"
  }
 },
 "nbformat": 4,
 "nbformat_minor": 4
}
