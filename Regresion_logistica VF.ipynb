{
 "cells": [
  {
   "cell_type": "code",
   "execution_count": 1,
   "metadata": {
    "id": "AOHzXWcWIlmv"
   },
   "outputs": [],
   "source": [
    "import pandas as pd\n",
    "from sklearn.model_selection import train_test_split\n",
    "from sklearn.linear_model import LogisticRegression\n",
    "from sklearn.metrics import accuracy_score, confusion_matrix"
   ]
  },
  {
   "cell_type": "code",
   "execution_count": 2,
   "metadata": {
    "id": "hpx1ibt-Ilmy"
   },
   "outputs": [],
   "source": [
    "import numpy as np"
   ]
  },
  {
   "cell_type": "code",
   "execution_count": 3,
   "metadata": {
    "id": "-gqsYNAbIlmz"
   },
   "outputs": [],
   "source": [
    "df = pd.read_csv(\"/Users/andresfelipemurilloavendano/Documents/2. CASO_Semestre_Analitica 2021-I/DataSetMuestraProyectoKL_v7may2021.txt\", \n",
    "                 sep = \"|\", encoding = \"latin-1\", decimal = ',', error_bad_lines = False, dtype={'a': np.float32})"
   ]
  },
  {
   "cell_type": "code",
   "execution_count": 4,
   "metadata": {
    "id": "M_UR3Rk8Ilm0",
    "outputId": "1db8ba53-ba6e-4c11-ae5c-6fff104001db"
   },
   "outputs": [
    {
     "name": "stdout",
     "output_type": "stream",
     "text": [
      "<class 'pandas.core.frame.DataFrame'>\n",
      "RangeIndex: 1730042 entries, 0 to 1730041\n",
      "Data columns (total 81 columns):\n",
      " #   Column                       Dtype  \n",
      "---  ------                       -----  \n",
      " 0   EPS                          int64  \n",
      " 1   cmdcuentamedica              int64  \n",
      " 2   prsIDPrestacion              int64  \n",
      " 3   dprIDDetallePrestacion       int64  \n",
      " 4   cmdPrefijoFactura            object \n",
      " 5   cmdNumeroFactura             int64  \n",
      " 6   PrNumFactu1                  object \n",
      " 7   PrNumFactu2                  object \n",
      " 8   cmdFchEmisionFactura         object \n",
      " 9   cmdfchradicacion             object \n",
      " 10  cmdTotalFactura              float64\n",
      " 11  FAC_FECH                     object \n",
      " 12  FAC_ESTA                     object \n",
      " 13  FAC_VATO                     float64\n",
      " 14  FecPagoReciente              object \n",
      " 15  ValTotalPago                 float64\n",
      " 16  cmdTotalIva                  int64  \n",
      " 17  cmdTotalReteFuente           int64  \n",
      " 18  cmdTotalReteIca              int64  \n",
      " 19  cmdTotalICO                  int64  \n",
      " 20  idEstadoCuenta               int64  \n",
      " 21  NombreEstadoCuenta           object \n",
      " 22  cafRadOtroOperador           object \n",
      " 23  idAmbito                     int64  \n",
      " 24  NombreAmbito                 object \n",
      " 25  idCobertura                  int64  \n",
      " 26  NombreCobertura              object \n",
      " 27  prsFchEntrada                object \n",
      " 28  prsFchSalida                 object \n",
      " 29  dprvlrproducto               float64\n",
      " 30  dprcantproducto              float64\n",
      " 31  ValorTotalDetalle            float64\n",
      " 32  dprVlrCopago                 float64\n",
      " 33  dprVlrModeradora             float64\n",
      " 34  prsgrabada                   int64  \n",
      " 35  prsVistoBueno                int64  \n",
      " 36  prsFechaVistoBueno           object \n",
      " 37  IdAfiliado                   float64\n",
      " 38  FechaNacimiento              object \n",
      " 39  Genero                       float64\n",
      " 40  GeneroID                     object \n",
      " 41  DANEAfiliado                 float64\n",
      " 42  FechaRadicacion              object \n",
      " 43  FechaAfiliacion              object \n",
      " 44  FechaRetiro                  object \n",
      " 45  EstadoAfiliacion             float64\n",
      " 46  DescripcionEstado            object \n",
      " 47  RazonEstadoAfiliacion        float64\n",
      " 48  DescripcionRazon             object \n",
      " 49  EstadoBDUA                   object \n",
      " 50  Cohorte                      object \n",
      " 51  IdTipoAfiliado               float64\n",
      " 52  TipoAfiliado                 object \n",
      " 53  Edad                         float64\n",
      " 54  idGrupoEtareo                float64\n",
      " 55  NombreGrupoEtareo            object \n",
      " 56  idTipoProducto               float64\n",
      " 57  NombreTipoProducto           object \n",
      " 58  CodigoServicio               int64  \n",
      " 59  DescripcionServicio          object \n",
      " 60  Tipo_Cod                     object \n",
      " 61  Codigo                       object \n",
      " 62  Descripcion_Cups_Cum         object \n",
      " 63  Seccion                      object \n",
      " 64  Servicio                     object \n",
      " 65  Agrupador2NTP                object \n",
      " 66  Especialidad                 object \n",
      " 67  prsTipoAtencion              float64\n",
      " 68  tatDescAtencion              object \n",
      " 69  idTipoCuenta                 int64  \n",
      " 70  NombreTipoCuenta             object \n",
      " 71  esContratoEspecial           bool   \n",
      " 72  idNit                        int64  \n",
      " 73  CodigoDANEDeptoMunPrestador  int64  \n",
      " 74  dxIDHomolDiag                object \n",
      " 75  dxDescripcion                object \n",
      " 76  sss1                         bool   \n",
      " 77  sss2                         bool   \n",
      " 78  ssd1                         bool   \n",
      " 79  ssd2                         bool   \n",
      " 80  ValUnitAt                    bool   \n",
      "dtypes: bool(6), float64(18), int64(18), object(39)\n",
      "memory usage: 999.8+ MB\n"
     ]
    }
   ],
   "source": [
    "df.info()"
   ]
  },
  {
   "cell_type": "code",
   "execution_count": 5,
   "metadata": {
    "id": "FTjZvumBIlm2",
    "outputId": "fff5b8ca-6b6d-4722-bde0-740e35febd8b"
   },
   "outputs": [
    {
     "data": {
      "text/html": [
       "<div>\n",
       "<style scoped>\n",
       "    .dataframe tbody tr th:only-of-type {\n",
       "        vertical-align: middle;\n",
       "    }\n",
       "\n",
       "    .dataframe tbody tr th {\n",
       "        vertical-align: top;\n",
       "    }\n",
       "\n",
       "    .dataframe thead th {\n",
       "        text-align: right;\n",
       "    }\n",
       "</style>\n",
       "<table border=\"1\" class=\"dataframe\">\n",
       "  <thead>\n",
       "    <tr style=\"text-align: right;\">\n",
       "      <th></th>\n",
       "      <th>EPS</th>\n",
       "      <th>cmdcuentamedica</th>\n",
       "      <th>prsIDPrestacion</th>\n",
       "      <th>dprIDDetallePrestacion</th>\n",
       "      <th>cmdPrefijoFactura</th>\n",
       "      <th>cmdNumeroFactura</th>\n",
       "      <th>PrNumFactu1</th>\n",
       "      <th>PrNumFactu2</th>\n",
       "      <th>cmdFchEmisionFactura</th>\n",
       "      <th>cmdfchradicacion</th>\n",
       "      <th>...</th>\n",
       "      <th>esContratoEspecial</th>\n",
       "      <th>idNit</th>\n",
       "      <th>CodigoDANEDeptoMunPrestador</th>\n",
       "      <th>dxIDHomolDiag</th>\n",
       "      <th>dxDescripcion</th>\n",
       "      <th>sss1</th>\n",
       "      <th>sss2</th>\n",
       "      <th>ssd1</th>\n",
       "      <th>ssd2</th>\n",
       "      <th>ValUnitAt</th>\n",
       "    </tr>\n",
       "  </thead>\n",
       "  <tbody>\n",
       "    <tr>\n",
       "      <th>0</th>\n",
       "      <td>3</td>\n",
       "      <td>5015177</td>\n",
       "      <td>10935210</td>\n",
       "      <td>34080638</td>\n",
       "      <td>FE</td>\n",
       "      <td>1833</td>\n",
       "      <td>FE1833</td>\n",
       "      <td>FE1833</td>\n",
       "      <td>2020-12-30 00:00:00</td>\n",
       "      <td>2021-01-20 17:24:08.847000000</td>\n",
       "      <td>...</td>\n",
       "      <td>False</td>\n",
       "      <td>702</td>\n",
       "      <td>17001</td>\n",
       "      <td>J441</td>\n",
       "      <td>Enfermedad pulmonar obstructiva cronica con ex...</td>\n",
       "      <td>False</td>\n",
       "      <td>False</td>\n",
       "      <td>False</td>\n",
       "      <td>False</td>\n",
       "      <td>False</td>\n",
       "    </tr>\n",
       "    <tr>\n",
       "      <th>1</th>\n",
       "      <td>1</td>\n",
       "      <td>15612717</td>\n",
       "      <td>37049102</td>\n",
       "      <td>122636975</td>\n",
       "      <td>NaN</td>\n",
       "      <td>904882</td>\n",
       "      <td>904882</td>\n",
       "      <td>904882</td>\n",
       "      <td>2020-08-28 00:00:00</td>\n",
       "      <td>2020-09-11 10:11:26.273000000</td>\n",
       "      <td>...</td>\n",
       "      <td>False</td>\n",
       "      <td>762</td>\n",
       "      <td>5154</td>\n",
       "      <td>S500</td>\n",
       "      <td>Contusion del codo</td>\n",
       "      <td>False</td>\n",
       "      <td>False</td>\n",
       "      <td>False</td>\n",
       "      <td>False</td>\n",
       "      <td>True</td>\n",
       "    </tr>\n",
       "    <tr>\n",
       "      <th>2</th>\n",
       "      <td>1</td>\n",
       "      <td>15612717</td>\n",
       "      <td>37049102</td>\n",
       "      <td>122636973</td>\n",
       "      <td>NaN</td>\n",
       "      <td>904882</td>\n",
       "      <td>904882</td>\n",
       "      <td>904882</td>\n",
       "      <td>2020-08-28 00:00:00</td>\n",
       "      <td>2020-09-11 10:11:26.273000000</td>\n",
       "      <td>...</td>\n",
       "      <td>False</td>\n",
       "      <td>762</td>\n",
       "      <td>5154</td>\n",
       "      <td>S500</td>\n",
       "      <td>Contusion del codo</td>\n",
       "      <td>False</td>\n",
       "      <td>False</td>\n",
       "      <td>False</td>\n",
       "      <td>False</td>\n",
       "      <td>False</td>\n",
       "    </tr>\n",
       "    <tr>\n",
       "      <th>3</th>\n",
       "      <td>1</td>\n",
       "      <td>14219175</td>\n",
       "      <td>34622073</td>\n",
       "      <td>111847983</td>\n",
       "      <td>HDCS</td>\n",
       "      <td>3425458</td>\n",
       "      <td>HDCS3425458</td>\n",
       "      <td>HDCS3425458</td>\n",
       "      <td>2020-02-29 00:00:00</td>\n",
       "      <td>2020-03-16 13:10:05.360000000</td>\n",
       "      <td>...</td>\n",
       "      <td>False</td>\n",
       "      <td>677</td>\n",
       "      <td>76736</td>\n",
       "      <td>J020</td>\n",
       "      <td>Faringitis estreptococica</td>\n",
       "      <td>False</td>\n",
       "      <td>False</td>\n",
       "      <td>False</td>\n",
       "      <td>False</td>\n",
       "      <td>False</td>\n",
       "    </tr>\n",
       "    <tr>\n",
       "      <th>4</th>\n",
       "      <td>1</td>\n",
       "      <td>16372641</td>\n",
       "      <td>38155400</td>\n",
       "      <td>127513164</td>\n",
       "      <td>SO</td>\n",
       "      <td>4412959</td>\n",
       "      <td>SO4412959</td>\n",
       "      <td>SO4412959</td>\n",
       "      <td>2020-11-03 00:00:00</td>\n",
       "      <td>2021-01-01 09:37:58.460000000</td>\n",
       "      <td>...</td>\n",
       "      <td>False</td>\n",
       "      <td>359</td>\n",
       "      <td>15753</td>\n",
       "      <td>J189</td>\n",
       "      <td>Neumonia, no especificada</td>\n",
       "      <td>False</td>\n",
       "      <td>False</td>\n",
       "      <td>False</td>\n",
       "      <td>False</td>\n",
       "      <td>False</td>\n",
       "    </tr>\n",
       "  </tbody>\n",
       "</table>\n",
       "<p>5 rows × 81 columns</p>\n",
       "</div>"
      ],
      "text/plain": [
       "   EPS  cmdcuentamedica  prsIDPrestacion  dprIDDetallePrestacion  \\\n",
       "0    3          5015177         10935210                34080638   \n",
       "1    1         15612717         37049102               122636975   \n",
       "2    1         15612717         37049102               122636973   \n",
       "3    1         14219175         34622073               111847983   \n",
       "4    1         16372641         38155400               127513164   \n",
       "\n",
       "  cmdPrefijoFactura  cmdNumeroFactura  PrNumFactu1  PrNumFactu2  \\\n",
       "0            FE                  1833       FE1833       FE1833   \n",
       "1               NaN            904882       904882       904882   \n",
       "2               NaN            904882       904882       904882   \n",
       "3            HDCS             3425458  HDCS3425458  HDCS3425458   \n",
       "4            SO               4412959    SO4412959    SO4412959   \n",
       "\n",
       "  cmdFchEmisionFactura               cmdfchradicacion  ...  \\\n",
       "0  2020-12-30 00:00:00  2021-01-20 17:24:08.847000000  ...   \n",
       "1  2020-08-28 00:00:00  2020-09-11 10:11:26.273000000  ...   \n",
       "2  2020-08-28 00:00:00  2020-09-11 10:11:26.273000000  ...   \n",
       "3  2020-02-29 00:00:00  2020-03-16 13:10:05.360000000  ...   \n",
       "4  2020-11-03 00:00:00  2021-01-01 09:37:58.460000000  ...   \n",
       "\n",
       "   esContratoEspecial idNit CodigoDANEDeptoMunPrestador  dxIDHomolDiag  \\\n",
       "0               False   702                       17001           J441   \n",
       "1               False   762                        5154           S500   \n",
       "2               False   762                        5154           S500   \n",
       "3               False   677                       76736           J020   \n",
       "4               False   359                       15753           J189   \n",
       "\n",
       "                                       dxDescripcion   sss1   sss2   ssd1  \\\n",
       "0  Enfermedad pulmonar obstructiva cronica con ex...  False  False  False   \n",
       "1                                 Contusion del codo  False  False  False   \n",
       "2                                 Contusion del codo  False  False  False   \n",
       "3                          Faringitis estreptococica  False  False  False   \n",
       "4                          Neumonia, no especificada  False  False  False   \n",
       "\n",
       "    ssd2  ValUnitAt  \n",
       "0  False      False  \n",
       "1  False       True  \n",
       "2  False      False  \n",
       "3  False      False  \n",
       "4  False      False  \n",
       "\n",
       "[5 rows x 81 columns]"
      ]
     },
     "execution_count": 5,
     "metadata": {},
     "output_type": "execute_result"
    }
   ],
   "source": [
    "df.head(5)"
   ]
  },
  {
   "cell_type": "code",
   "execution_count": 6,
   "metadata": {
    "id": "pqmp6xGaIlm3",
    "outputId": "6b2b6dae-a20f-4bf6-d0fe-e40685f4a938"
   },
   "outputs": [
    {
     "data": {
      "text/plain": [
       "False    1417076\n",
       "True      312966\n",
       "Name: ValUnitAt, dtype: int64"
      ]
     },
     "execution_count": 6,
     "metadata": {},
     "output_type": "execute_result"
    }
   ],
   "source": [
    "df[\"ValUnitAt\"].value_counts()"
   ]
  },
  {
   "cell_type": "markdown",
   "metadata": {
    "id": "pKFsy31RIlm5"
   },
   "source": [
    "## 312.966 datos atipicos y sospechosos de fraude, encontrados mediante los rangos intercuartilicos y test SSS1, SSS2, SSD1, SSD2, seran marcados con True = 1\n",
    "\n",
    "## Los demás datos con False = 0"
   ]
  },
  {
   "cell_type": "code",
   "execution_count": null,
   "metadata": {
    "id": "GXbRbrx9Ilm6"
   },
   "outputs": [],
   "source": []
  },
  {
   "cell_type": "code",
   "execution_count": 7,
   "metadata": {
    "id": "sJ3QSOlTIlm6"
   },
   "outputs": [],
   "source": [
    "#transformo los datos True y False a 1 y 0 respectivamente\n",
    "df['ValUnitAt'] = df['ValUnitAt'].astype(int)"
   ]
  },
  {
   "cell_type": "code",
   "execution_count": 8,
   "metadata": {
    "id": "0ps3K8DGIlm8"
   },
   "outputs": [],
   "source": [
    "df['sss1'] = df['sss1'].astype(int)"
   ]
  },
  {
   "cell_type": "code",
   "execution_count": 9,
   "metadata": {
    "id": "QhfSf3QZIlm9"
   },
   "outputs": [],
   "source": [
    "df['sss2'] = df['sss2'].astype(int)"
   ]
  },
  {
   "cell_type": "code",
   "execution_count": 10,
   "metadata": {
    "id": "GfZpByJqIlm-"
   },
   "outputs": [],
   "source": [
    "df['ssd1'] = df['ssd1'].astype(int)"
   ]
  },
  {
   "cell_type": "code",
   "execution_count": 11,
   "metadata": {
    "id": "mZzvjdkfIlm_"
   },
   "outputs": [],
   "source": [
    "df['ssd2'] = df['ssd2'].astype(int)"
   ]
  },
  {
   "cell_type": "code",
   "execution_count": 12,
   "metadata": {
    "id": "ZGVg968IIlm_"
   },
   "outputs": [],
   "source": [
    "df['esContratoEspecial'] = df['esContratoEspecial'].astype(int)"
   ]
  },
  {
   "cell_type": "code",
   "execution_count": 13,
   "metadata": {
    "id": "kkLKDS0sIlnA",
    "outputId": "bf78a8bb-b2dc-475e-9fb7-8bb5ac9c5a41"
   },
   "outputs": [
    {
     "data": {
      "text/html": [
       "<div>\n",
       "<style scoped>\n",
       "    .dataframe tbody tr th:only-of-type {\n",
       "        vertical-align: middle;\n",
       "    }\n",
       "\n",
       "    .dataframe tbody tr th {\n",
       "        vertical-align: top;\n",
       "    }\n",
       "\n",
       "    .dataframe thead th {\n",
       "        text-align: right;\n",
       "    }\n",
       "</style>\n",
       "<table border=\"1\" class=\"dataframe\">\n",
       "  <thead>\n",
       "    <tr style=\"text-align: right;\">\n",
       "      <th></th>\n",
       "      <th>EPS</th>\n",
       "      <th>cmdcuentamedica</th>\n",
       "      <th>prsIDPrestacion</th>\n",
       "      <th>dprIDDetallePrestacion</th>\n",
       "      <th>cmdPrefijoFactura</th>\n",
       "      <th>cmdNumeroFactura</th>\n",
       "      <th>PrNumFactu1</th>\n",
       "      <th>PrNumFactu2</th>\n",
       "      <th>cmdFchEmisionFactura</th>\n",
       "      <th>cmdfchradicacion</th>\n",
       "      <th>...</th>\n",
       "      <th>esContratoEspecial</th>\n",
       "      <th>idNit</th>\n",
       "      <th>CodigoDANEDeptoMunPrestador</th>\n",
       "      <th>dxIDHomolDiag</th>\n",
       "      <th>dxDescripcion</th>\n",
       "      <th>sss1</th>\n",
       "      <th>sss2</th>\n",
       "      <th>ssd1</th>\n",
       "      <th>ssd2</th>\n",
       "      <th>ValUnitAt</th>\n",
       "    </tr>\n",
       "  </thead>\n",
       "  <tbody>\n",
       "    <tr>\n",
       "      <th>0</th>\n",
       "      <td>3</td>\n",
       "      <td>5015177</td>\n",
       "      <td>10935210</td>\n",
       "      <td>34080638</td>\n",
       "      <td>FE</td>\n",
       "      <td>1833</td>\n",
       "      <td>FE1833</td>\n",
       "      <td>FE1833</td>\n",
       "      <td>2020-12-30 00:00:00</td>\n",
       "      <td>2021-01-20 17:24:08.847000000</td>\n",
       "      <td>...</td>\n",
       "      <td>0</td>\n",
       "      <td>702</td>\n",
       "      <td>17001</td>\n",
       "      <td>J441</td>\n",
       "      <td>Enfermedad pulmonar obstructiva cronica con ex...</td>\n",
       "      <td>0</td>\n",
       "      <td>0</td>\n",
       "      <td>0</td>\n",
       "      <td>0</td>\n",
       "      <td>0</td>\n",
       "    </tr>\n",
       "    <tr>\n",
       "      <th>1</th>\n",
       "      <td>1</td>\n",
       "      <td>15612717</td>\n",
       "      <td>37049102</td>\n",
       "      <td>122636975</td>\n",
       "      <td>NaN</td>\n",
       "      <td>904882</td>\n",
       "      <td>904882</td>\n",
       "      <td>904882</td>\n",
       "      <td>2020-08-28 00:00:00</td>\n",
       "      <td>2020-09-11 10:11:26.273000000</td>\n",
       "      <td>...</td>\n",
       "      <td>0</td>\n",
       "      <td>762</td>\n",
       "      <td>5154</td>\n",
       "      <td>S500</td>\n",
       "      <td>Contusion del codo</td>\n",
       "      <td>0</td>\n",
       "      <td>0</td>\n",
       "      <td>0</td>\n",
       "      <td>0</td>\n",
       "      <td>1</td>\n",
       "    </tr>\n",
       "    <tr>\n",
       "      <th>2</th>\n",
       "      <td>1</td>\n",
       "      <td>15612717</td>\n",
       "      <td>37049102</td>\n",
       "      <td>122636973</td>\n",
       "      <td>NaN</td>\n",
       "      <td>904882</td>\n",
       "      <td>904882</td>\n",
       "      <td>904882</td>\n",
       "      <td>2020-08-28 00:00:00</td>\n",
       "      <td>2020-09-11 10:11:26.273000000</td>\n",
       "      <td>...</td>\n",
       "      <td>0</td>\n",
       "      <td>762</td>\n",
       "      <td>5154</td>\n",
       "      <td>S500</td>\n",
       "      <td>Contusion del codo</td>\n",
       "      <td>0</td>\n",
       "      <td>0</td>\n",
       "      <td>0</td>\n",
       "      <td>0</td>\n",
       "      <td>0</td>\n",
       "    </tr>\n",
       "  </tbody>\n",
       "</table>\n",
       "<p>3 rows × 81 columns</p>\n",
       "</div>"
      ],
      "text/plain": [
       "   EPS  cmdcuentamedica  prsIDPrestacion  dprIDDetallePrestacion  \\\n",
       "0    3          5015177         10935210                34080638   \n",
       "1    1         15612717         37049102               122636975   \n",
       "2    1         15612717         37049102               122636973   \n",
       "\n",
       "  cmdPrefijoFactura  cmdNumeroFactura PrNumFactu1 PrNumFactu2  \\\n",
       "0            FE                  1833      FE1833      FE1833   \n",
       "1               NaN            904882      904882      904882   \n",
       "2               NaN            904882      904882      904882   \n",
       "\n",
       "  cmdFchEmisionFactura               cmdfchradicacion  ...  \\\n",
       "0  2020-12-30 00:00:00  2021-01-20 17:24:08.847000000  ...   \n",
       "1  2020-08-28 00:00:00  2020-09-11 10:11:26.273000000  ...   \n",
       "2  2020-08-28 00:00:00  2020-09-11 10:11:26.273000000  ...   \n",
       "\n",
       "   esContratoEspecial idNit CodigoDANEDeptoMunPrestador  dxIDHomolDiag  \\\n",
       "0                   0   702                       17001           J441   \n",
       "1                   0   762                        5154           S500   \n",
       "2                   0   762                        5154           S500   \n",
       "\n",
       "                                       dxDescripcion  sss1  sss2  ssd1  ssd2  \\\n",
       "0  Enfermedad pulmonar obstructiva cronica con ex...     0     0     0     0   \n",
       "1                                 Contusion del codo     0     0     0     0   \n",
       "2                                 Contusion del codo     0     0     0     0   \n",
       "\n",
       "   ValUnitAt  \n",
       "0          0  \n",
       "1          1  \n",
       "2          0  \n",
       "\n",
       "[3 rows x 81 columns]"
      ]
     },
     "execution_count": 13,
     "metadata": {},
     "output_type": "execute_result"
    }
   ],
   "source": [
    "df.head(3)"
   ]
  },
  {
   "cell_type": "code",
   "execution_count": 14,
   "metadata": {
    "id": "tN2bVDuwIlnB"
   },
   "outputs": [],
   "source": [
    "# Elimino las columnas con texto y con fechas"
   ]
  },
  {
   "cell_type": "code",
   "execution_count": null,
   "metadata": {
    "id": "-uiO2LfZIlnB"
   },
   "outputs": [],
   "source": []
  },
  {
   "cell_type": "code",
   "execution_count": 15,
   "metadata": {
    "id": "3eAOrMaoIlnC",
    "outputId": "9d64a419-ce40-445c-ccac-e1bd49a4be53"
   },
   "outputs": [
    {
     "data": {
      "text/html": [
       "<div>\n",
       "<style scoped>\n",
       "    .dataframe tbody tr th:only-of-type {\n",
       "        vertical-align: middle;\n",
       "    }\n",
       "\n",
       "    .dataframe tbody tr th {\n",
       "        vertical-align: top;\n",
       "    }\n",
       "\n",
       "    .dataframe thead th {\n",
       "        text-align: right;\n",
       "    }\n",
       "</style>\n",
       "<table border=\"1\" class=\"dataframe\">\n",
       "  <thead>\n",
       "    <tr style=\"text-align: right;\">\n",
       "      <th></th>\n",
       "      <th>EPS</th>\n",
       "      <th>cmdcuentamedica</th>\n",
       "      <th>prsIDPrestacion</th>\n",
       "      <th>dprIDDetallePrestacion</th>\n",
       "      <th>cmdNumeroFactura</th>\n",
       "      <th>cmdTotalFactura</th>\n",
       "      <th>FAC_VATO</th>\n",
       "      <th>ValTotalPago</th>\n",
       "      <th>cmdTotalIva</th>\n",
       "      <th>cmdTotalReteFuente</th>\n",
       "      <th>...</th>\n",
       "      <th>prsTipoAtencion</th>\n",
       "      <th>idTipoCuenta</th>\n",
       "      <th>esContratoEspecial</th>\n",
       "      <th>idNit</th>\n",
       "      <th>CodigoDANEDeptoMunPrestador</th>\n",
       "      <th>sss1</th>\n",
       "      <th>sss2</th>\n",
       "      <th>ssd1</th>\n",
       "      <th>ssd2</th>\n",
       "      <th>ValUnitAt</th>\n",
       "    </tr>\n",
       "  </thead>\n",
       "  <tbody>\n",
       "    <tr>\n",
       "      <th>0</th>\n",
       "      <td>3</td>\n",
       "      <td>5015177</td>\n",
       "      <td>10935210</td>\n",
       "      <td>34080638</td>\n",
       "      <td>1833</td>\n",
       "      <td>2022881.0</td>\n",
       "      <td>2022881.0</td>\n",
       "      <td>1705361.0</td>\n",
       "      <td>0</td>\n",
       "      <td>0</td>\n",
       "      <td>...</td>\n",
       "      <td>44.0</td>\n",
       "      <td>2</td>\n",
       "      <td>0</td>\n",
       "      <td>702</td>\n",
       "      <td>17001</td>\n",
       "      <td>0</td>\n",
       "      <td>0</td>\n",
       "      <td>0</td>\n",
       "      <td>0</td>\n",
       "      <td>0</td>\n",
       "    </tr>\n",
       "    <tr>\n",
       "      <th>1</th>\n",
       "      <td>1</td>\n",
       "      <td>15612717</td>\n",
       "      <td>37049102</td>\n",
       "      <td>122636975</td>\n",
       "      <td>904882</td>\n",
       "      <td>76465.0</td>\n",
       "      <td>76465.0</td>\n",
       "      <td>76465.0</td>\n",
       "      <td>0</td>\n",
       "      <td>0</td>\n",
       "      <td>...</td>\n",
       "      <td>2.0</td>\n",
       "      <td>2</td>\n",
       "      <td>0</td>\n",
       "      <td>762</td>\n",
       "      <td>5154</td>\n",
       "      <td>0</td>\n",
       "      <td>0</td>\n",
       "      <td>0</td>\n",
       "      <td>0</td>\n",
       "      <td>1</td>\n",
       "    </tr>\n",
       "    <tr>\n",
       "      <th>2</th>\n",
       "      <td>1</td>\n",
       "      <td>15612717</td>\n",
       "      <td>37049102</td>\n",
       "      <td>122636973</td>\n",
       "      <td>904882</td>\n",
       "      <td>76465.0</td>\n",
       "      <td>76465.0</td>\n",
       "      <td>76465.0</td>\n",
       "      <td>0</td>\n",
       "      <td>0</td>\n",
       "      <td>...</td>\n",
       "      <td>2.0</td>\n",
       "      <td>2</td>\n",
       "      <td>0</td>\n",
       "      <td>762</td>\n",
       "      <td>5154</td>\n",
       "      <td>0</td>\n",
       "      <td>0</td>\n",
       "      <td>0</td>\n",
       "      <td>0</td>\n",
       "      <td>0</td>\n",
       "    </tr>\n",
       "    <tr>\n",
       "      <th>3</th>\n",
       "      <td>1</td>\n",
       "      <td>14219175</td>\n",
       "      <td>34622073</td>\n",
       "      <td>111847983</td>\n",
       "      <td>3425458</td>\n",
       "      <td>49933.0</td>\n",
       "      <td>49933.0</td>\n",
       "      <td>49933.0</td>\n",
       "      <td>0</td>\n",
       "      <td>0</td>\n",
       "      <td>...</td>\n",
       "      <td>2.0</td>\n",
       "      <td>2</td>\n",
       "      <td>0</td>\n",
       "      <td>677</td>\n",
       "      <td>76736</td>\n",
       "      <td>0</td>\n",
       "      <td>0</td>\n",
       "      <td>0</td>\n",
       "      <td>0</td>\n",
       "      <td>0</td>\n",
       "    </tr>\n",
       "    <tr>\n",
       "      <th>4</th>\n",
       "      <td>1</td>\n",
       "      <td>16372641</td>\n",
       "      <td>38155400</td>\n",
       "      <td>127513164</td>\n",
       "      <td>4412959</td>\n",
       "      <td>4073108.0</td>\n",
       "      <td>NaN</td>\n",
       "      <td>NaN</td>\n",
       "      <td>0</td>\n",
       "      <td>0</td>\n",
       "      <td>...</td>\n",
       "      <td>44.0</td>\n",
       "      <td>2</td>\n",
       "      <td>0</td>\n",
       "      <td>359</td>\n",
       "      <td>15753</td>\n",
       "      <td>0</td>\n",
       "      <td>0</td>\n",
       "      <td>0</td>\n",
       "      <td>0</td>\n",
       "      <td>0</td>\n",
       "    </tr>\n",
       "  </tbody>\n",
       "</table>\n",
       "<p>5 rows × 42 columns</p>\n",
       "</div>"
      ],
      "text/plain": [
       "   EPS  cmdcuentamedica  prsIDPrestacion  dprIDDetallePrestacion  \\\n",
       "0    3          5015177         10935210                34080638   \n",
       "1    1         15612717         37049102               122636975   \n",
       "2    1         15612717         37049102               122636973   \n",
       "3    1         14219175         34622073               111847983   \n",
       "4    1         16372641         38155400               127513164   \n",
       "\n",
       "   cmdNumeroFactura  cmdTotalFactura   FAC_VATO  ValTotalPago  cmdTotalIva  \\\n",
       "0              1833        2022881.0  2022881.0     1705361.0            0   \n",
       "1            904882          76465.0    76465.0       76465.0            0   \n",
       "2            904882          76465.0    76465.0       76465.0            0   \n",
       "3           3425458          49933.0    49933.0       49933.0            0   \n",
       "4           4412959        4073108.0        NaN           NaN            0   \n",
       "\n",
       "   cmdTotalReteFuente  ...  prsTipoAtencion  idTipoCuenta  esContratoEspecial  \\\n",
       "0                   0  ...             44.0             2                   0   \n",
       "1                   0  ...              2.0             2                   0   \n",
       "2                   0  ...              2.0             2                   0   \n",
       "3                   0  ...              2.0             2                   0   \n",
       "4                   0  ...             44.0             2                   0   \n",
       "\n",
       "   idNit  CodigoDANEDeptoMunPrestador  sss1  sss2  ssd1  ssd2  ValUnitAt  \n",
       "0    702                        17001     0     0     0     0          0  \n",
       "1    762                         5154     0     0     0     0          1  \n",
       "2    762                         5154     0     0     0     0          0  \n",
       "3    677                        76736     0     0     0     0          0  \n",
       "4    359                        15753     0     0     0     0          0  \n",
       "\n",
       "[5 rows x 42 columns]"
      ]
     },
     "execution_count": 15,
     "metadata": {},
     "output_type": "execute_result"
    }
   ],
   "source": [
    "df_limpio = df.drop([\"cmdPrefijoFactura\", \"PrNumFactu1\", \"PrNumFactu2\", \"FAC_ESTA\", \"NombreEstadoCuenta\",\n",
    "                     \"cafRadOtroOperador\", \"NombreAmbito\", \"NombreCobertura\", \"GeneroID\",\n",
    "                     \"DescripcionEstado\", \"DescripcionRazon\", \"EstadoBDUA\", \"Cohorte\", \"TipoAfiliado\",\n",
    "                     \"NombreGrupoEtareo\", \"NombreTipoProducto\", \"DescripcionServicio\", \"Tipo_Cod\",\n",
    "                     \"Codigo\", \"Descripcion_Cups_Cum\", \"Seccion\", \"Servicio\", \"Agrupador2NTP\", \"Especialidad\",\n",
    "                     \"tatDescAtencion\", \"NombreTipoCuenta\", \"dxIDHomolDiag\", \"dxDescripcion\", \n",
    "                     \"cmdFchEmisionFactura\", \"cmdfchradicacion\", \"FAC_FECH\", \"FecPagoReciente\", \"prsFchEntrada\",\n",
    "                     \"prsFchSalida\", \"prsFchSalida\", \"prsFechaVistoBueno\", \"FechaNacimiento\", \"FechaRadicacion\",\n",
    "                     \"FechaAfiliacion\", \"FechaRetiro\"], axis=1)\n",
    "df_limpio.head()"
   ]
  },
  {
   "cell_type": "code",
   "execution_count": 16,
   "metadata": {
    "id": "to-VX4BZIlnE",
    "outputId": "084d2b9e-95b7-4438-a762-10730ff56aef"
   },
   "outputs": [
    {
     "name": "stdout",
     "output_type": "stream",
     "text": [
      "<class 'pandas.core.frame.DataFrame'>\n",
      "RangeIndex: 1730042 entries, 0 to 1730041\n",
      "Data columns (total 42 columns):\n",
      " #   Column                       Dtype  \n",
      "---  ------                       -----  \n",
      " 0   EPS                          int64  \n",
      " 1   cmdcuentamedica              int64  \n",
      " 2   prsIDPrestacion              int64  \n",
      " 3   dprIDDetallePrestacion       int64  \n",
      " 4   cmdNumeroFactura             int64  \n",
      " 5   cmdTotalFactura              float64\n",
      " 6   FAC_VATO                     float64\n",
      " 7   ValTotalPago                 float64\n",
      " 8   cmdTotalIva                  int64  \n",
      " 9   cmdTotalReteFuente           int64  \n",
      " 10  cmdTotalReteIca              int64  \n",
      " 11  cmdTotalICO                  int64  \n",
      " 12  idEstadoCuenta               int64  \n",
      " 13  idAmbito                     int64  \n",
      " 14  idCobertura                  int64  \n",
      " 15  dprvlrproducto               float64\n",
      " 16  dprcantproducto              float64\n",
      " 17  ValorTotalDetalle            float64\n",
      " 18  dprVlrCopago                 float64\n",
      " 19  dprVlrModeradora             float64\n",
      " 20  prsgrabada                   int64  \n",
      " 21  prsVistoBueno                int64  \n",
      " 22  IdAfiliado                   float64\n",
      " 23  Genero                       float64\n",
      " 24  DANEAfiliado                 float64\n",
      " 25  EstadoAfiliacion             float64\n",
      " 26  RazonEstadoAfiliacion        float64\n",
      " 27  IdTipoAfiliado               float64\n",
      " 28  Edad                         float64\n",
      " 29  idGrupoEtareo                float64\n",
      " 30  idTipoProducto               float64\n",
      " 31  CodigoServicio               int64  \n",
      " 32  prsTipoAtencion              float64\n",
      " 33  idTipoCuenta                 int64  \n",
      " 34  esContratoEspecial           int64  \n",
      " 35  idNit                        int64  \n",
      " 36  CodigoDANEDeptoMunPrestador  int64  \n",
      " 37  sss1                         int64  \n",
      " 38  sss2                         int64  \n",
      " 39  ssd1                         int64  \n",
      " 40  ssd2                         int64  \n",
      " 41  ValUnitAt                    int64  \n",
      "dtypes: float64(18), int64(24)\n",
      "memory usage: 554.4 MB\n"
     ]
    }
   ],
   "source": [
    "df_limpio.info()"
   ]
  },
  {
   "cell_type": "code",
   "execution_count": 18,
   "metadata": {
    "id": "jR2oHESGIlnE"
   },
   "outputs": [],
   "source": [
    "prueba = df_limpio.fillna(0)"
   ]
  },
  {
   "cell_type": "code",
   "execution_count": null,
   "metadata": {},
   "outputs": [],
   "source": []
  },
  {
   "cell_type": "code",
   "execution_count": 19,
   "metadata": {
    "id": "98DqAum3IlnF",
    "outputId": "4843cd08-9337-4c89-e2bc-6dca46da73cb"
   },
   "outputs": [
    {
     "data": {
      "text/html": [
       "<div>\n",
       "<style scoped>\n",
       "    .dataframe tbody tr th:only-of-type {\n",
       "        vertical-align: middle;\n",
       "    }\n",
       "\n",
       "    .dataframe tbody tr th {\n",
       "        vertical-align: top;\n",
       "    }\n",
       "\n",
       "    .dataframe thead th {\n",
       "        text-align: right;\n",
       "    }\n",
       "</style>\n",
       "<table border=\"1\" class=\"dataframe\">\n",
       "  <thead>\n",
       "    <tr style=\"text-align: right;\">\n",
       "      <th></th>\n",
       "      <th>EPS</th>\n",
       "      <th>cmdcuentamedica</th>\n",
       "      <th>prsIDPrestacion</th>\n",
       "      <th>dprIDDetallePrestacion</th>\n",
       "      <th>cmdNumeroFactura</th>\n",
       "      <th>cmdTotalFactura</th>\n",
       "      <th>FAC_VATO</th>\n",
       "      <th>ValTotalPago</th>\n",
       "      <th>cmdTotalIva</th>\n",
       "      <th>cmdTotalReteFuente</th>\n",
       "      <th>...</th>\n",
       "      <th>prsTipoAtencion</th>\n",
       "      <th>idTipoCuenta</th>\n",
       "      <th>esContratoEspecial</th>\n",
       "      <th>idNit</th>\n",
       "      <th>CodigoDANEDeptoMunPrestador</th>\n",
       "      <th>sss1</th>\n",
       "      <th>sss2</th>\n",
       "      <th>ssd1</th>\n",
       "      <th>ssd2</th>\n",
       "      <th>ValUnitAt</th>\n",
       "    </tr>\n",
       "  </thead>\n",
       "  <tbody>\n",
       "    <tr>\n",
       "      <th>0</th>\n",
       "      <td>3</td>\n",
       "      <td>5015177</td>\n",
       "      <td>10935210</td>\n",
       "      <td>34080638</td>\n",
       "      <td>1833</td>\n",
       "      <td>2022881.0</td>\n",
       "      <td>2022881.0</td>\n",
       "      <td>1705361.0</td>\n",
       "      <td>0</td>\n",
       "      <td>0</td>\n",
       "      <td>...</td>\n",
       "      <td>44.0</td>\n",
       "      <td>2</td>\n",
       "      <td>0</td>\n",
       "      <td>702</td>\n",
       "      <td>17001</td>\n",
       "      <td>0</td>\n",
       "      <td>0</td>\n",
       "      <td>0</td>\n",
       "      <td>0</td>\n",
       "      <td>0</td>\n",
       "    </tr>\n",
       "    <tr>\n",
       "      <th>1</th>\n",
       "      <td>1</td>\n",
       "      <td>15612717</td>\n",
       "      <td>37049102</td>\n",
       "      <td>122636975</td>\n",
       "      <td>904882</td>\n",
       "      <td>76465.0</td>\n",
       "      <td>76465.0</td>\n",
       "      <td>76465.0</td>\n",
       "      <td>0</td>\n",
       "      <td>0</td>\n",
       "      <td>...</td>\n",
       "      <td>2.0</td>\n",
       "      <td>2</td>\n",
       "      <td>0</td>\n",
       "      <td>762</td>\n",
       "      <td>5154</td>\n",
       "      <td>0</td>\n",
       "      <td>0</td>\n",
       "      <td>0</td>\n",
       "      <td>0</td>\n",
       "      <td>1</td>\n",
       "    </tr>\n",
       "    <tr>\n",
       "      <th>2</th>\n",
       "      <td>1</td>\n",
       "      <td>15612717</td>\n",
       "      <td>37049102</td>\n",
       "      <td>122636973</td>\n",
       "      <td>904882</td>\n",
       "      <td>76465.0</td>\n",
       "      <td>76465.0</td>\n",
       "      <td>76465.0</td>\n",
       "      <td>0</td>\n",
       "      <td>0</td>\n",
       "      <td>...</td>\n",
       "      <td>2.0</td>\n",
       "      <td>2</td>\n",
       "      <td>0</td>\n",
       "      <td>762</td>\n",
       "      <td>5154</td>\n",
       "      <td>0</td>\n",
       "      <td>0</td>\n",
       "      <td>0</td>\n",
       "      <td>0</td>\n",
       "      <td>0</td>\n",
       "    </tr>\n",
       "    <tr>\n",
       "      <th>3</th>\n",
       "      <td>1</td>\n",
       "      <td>14219175</td>\n",
       "      <td>34622073</td>\n",
       "      <td>111847983</td>\n",
       "      <td>3425458</td>\n",
       "      <td>49933.0</td>\n",
       "      <td>49933.0</td>\n",
       "      <td>49933.0</td>\n",
       "      <td>0</td>\n",
       "      <td>0</td>\n",
       "      <td>...</td>\n",
       "      <td>2.0</td>\n",
       "      <td>2</td>\n",
       "      <td>0</td>\n",
       "      <td>677</td>\n",
       "      <td>76736</td>\n",
       "      <td>0</td>\n",
       "      <td>0</td>\n",
       "      <td>0</td>\n",
       "      <td>0</td>\n",
       "      <td>0</td>\n",
       "    </tr>\n",
       "    <tr>\n",
       "      <th>4</th>\n",
       "      <td>1</td>\n",
       "      <td>16372641</td>\n",
       "      <td>38155400</td>\n",
       "      <td>127513164</td>\n",
       "      <td>4412959</td>\n",
       "      <td>4073108.0</td>\n",
       "      <td>0.0</td>\n",
       "      <td>0.0</td>\n",
       "      <td>0</td>\n",
       "      <td>0</td>\n",
       "      <td>...</td>\n",
       "      <td>44.0</td>\n",
       "      <td>2</td>\n",
       "      <td>0</td>\n",
       "      <td>359</td>\n",
       "      <td>15753</td>\n",
       "      <td>0</td>\n",
       "      <td>0</td>\n",
       "      <td>0</td>\n",
       "      <td>0</td>\n",
       "      <td>0</td>\n",
       "    </tr>\n",
       "  </tbody>\n",
       "</table>\n",
       "<p>5 rows × 42 columns</p>\n",
       "</div>"
      ],
      "text/plain": [
       "   EPS  cmdcuentamedica  prsIDPrestacion  dprIDDetallePrestacion  \\\n",
       "0    3          5015177         10935210                34080638   \n",
       "1    1         15612717         37049102               122636975   \n",
       "2    1         15612717         37049102               122636973   \n",
       "3    1         14219175         34622073               111847983   \n",
       "4    1         16372641         38155400               127513164   \n",
       "\n",
       "   cmdNumeroFactura  cmdTotalFactura   FAC_VATO  ValTotalPago  cmdTotalIva  \\\n",
       "0              1833        2022881.0  2022881.0     1705361.0            0   \n",
       "1            904882          76465.0    76465.0       76465.0            0   \n",
       "2            904882          76465.0    76465.0       76465.0            0   \n",
       "3           3425458          49933.0    49933.0       49933.0            0   \n",
       "4           4412959        4073108.0        0.0           0.0            0   \n",
       "\n",
       "   cmdTotalReteFuente  ...  prsTipoAtencion  idTipoCuenta  esContratoEspecial  \\\n",
       "0                   0  ...             44.0             2                   0   \n",
       "1                   0  ...              2.0             2                   0   \n",
       "2                   0  ...              2.0             2                   0   \n",
       "3                   0  ...              2.0             2                   0   \n",
       "4                   0  ...             44.0             2                   0   \n",
       "\n",
       "   idNit  CodigoDANEDeptoMunPrestador  sss1  sss2  ssd1  ssd2  ValUnitAt  \n",
       "0    702                        17001     0     0     0     0          0  \n",
       "1    762                         5154     0     0     0     0          1  \n",
       "2    762                         5154     0     0     0     0          0  \n",
       "3    677                        76736     0     0     0     0          0  \n",
       "4    359                        15753     0     0     0     0          0  \n",
       "\n",
       "[5 rows x 42 columns]"
      ]
     },
     "execution_count": 19,
     "metadata": {},
     "output_type": "execute_result"
    }
   ],
   "source": [
    "prueba.head()"
   ]
  },
  {
   "cell_type": "code",
   "execution_count": 25,
   "metadata": {
    "id": "yUCkOb9GIlnG"
   },
   "outputs": [],
   "source": [
    "prueba.to_csv('pruebaRForest.csv', sep = \";\", decimal = \".\", index=False)"
   ]
  },
  {
   "cell_type": "code",
   "execution_count": null,
   "metadata": {
    "id": "VyJ5SpWmIlnG"
   },
   "outputs": [],
   "source": [
    "# dividir el dataset en entrenamiento (train) y datos de evaluacion (test)\\n\",\n",
    "X_train, X_test, y_train, y_test = train_test_split(\n",
    "    prueba.drop('ValUnitAt', axis=1), prueba['ValUnitAt'],\n",
    "    test_size=0.3, random_state=42)"
   ]
  },
  {
   "cell_type": "code",
   "execution_count": null,
   "metadata": {
    "id": "JI3pwHbXIlnH",
    "outputId": "a0df1227-0dfb-4fe0-de7d-cd19f1ffe1fd"
   },
   "outputs": [
    {
     "name": "stdout",
     "output_type": "stream",
     "text": [
      "0.8192588624947738\n"
     ]
    }
   ],
   "source": [
    "clasificacion_bin = LogisticRegression().fit(X_train, y_train)\n",
    "    \n",
    "# Realizar las predicciones en los datos de evaluación (test),\n",
    "y_pred = clasificacion_bin.predict(X_test)\n",
    "\n",
    "print(accuracy_score(y_pred, y_test))"
   ]
  },
  {
   "cell_type": "code",
   "execution_count": null,
   "metadata": {
    "id": "oZ5VnDoiIlnI",
    "outputId": "dc1181f6-2bc1-4926-88fa-917d0b770c02"
   },
   "outputs": [
    {
     "name": "stdout",
     "output_type": "stream",
     "text": [
      "[[425206      0]\n",
      " [ 93807      0]]\n"
     ]
    }
   ],
   "source": [
    "# matriz de confusion\n",
    "print(confusion_matrix(y_test, y_pred))"
   ]
  },
  {
   "cell_type": "code",
   "execution_count": null,
   "metadata": {
    "id": "calrpl6-IlnI",
    "outputId": "48c8ec58-a316-4a25-95a2-5f57d14ccd5b"
   },
   "outputs": [
    {
     "name": "stderr",
     "output_type": "stream",
     "text": [
      "/Users/andresfelipemurilloavendano/opt/anaconda3/lib/python3.8/site-packages/sklearn/metrics/_classification.py:1221: UndefinedMetricWarning: Precision and F-score are ill-defined and being set to 0.0 in labels with no predicted samples. Use `zero_division` parameter to control this behavior.\n",
      "  _warn_prf(average, modifier, msg_start, len(result))\n"
     ]
    },
    {
     "name": "stdout",
     "output_type": "stream",
     "text": [
      "              precision    recall  f1-score   support\n",
      "\n",
      "           0       0.82      1.00      0.90    425206\n",
      "           1       0.00      0.00      0.00     93807\n",
      "\n",
      "    accuracy                           0.82    519013\n",
      "   macro avg       0.41      0.50      0.45    519013\n",
      "weighted avg       0.67      0.82      0.74    519013\n",
      "\n"
     ]
    }
   ],
   "source": [
    "from sklearn.metrics import classification_report\n",
    "print(classification_report(y_test, y_pred))"
   ]
  },
  {
   "cell_type": "code",
   "execution_count": null,
   "metadata": {
    "id": "4Tayys0OIlnJ"
   },
   "outputs": [],
   "source": []
  },
  {
   "cell_type": "code",
   "execution_count": null,
   "metadata": {
    "id": "YIk-Ia2CIlnK"
   },
   "outputs": [],
   "source": [
    "# use seaborn plotting defaults\n",
    "import seaborn as sns; sns.set()"
   ]
  },
  {
   "cell_type": "code",
   "execution_count": null,
   "metadata": {
    "id": "lwC7sLZDIlnM",
    "outputId": "4d1dcc57-666c-4039-a41d-51895776cb38"
   },
   "outputs": [
    {
     "data": {
      "image/png": "[encoded data removed]",
      "text/plain": [
       "<Figure size 432x288 with 1 Axes>"
      ]
     },
     "metadata": {
      "tags": []
     },
     "output_type": "display_data"
    }
   ],
   "source": [
    "from sklearn.metrics import confusion_matrix\n",
    "mat = confusion_matrix(y_test, y_pred)\n",
    "sns.heatmap(mat.T, square=True, annot=True, fmt='d', cbar=False);"
   ]
  },
  {
   "cell_type": "code",
   "execution_count": null,
   "metadata": {
    "id": "LItPhOP_IlnO"
   },
   "outputs": [],
   "source": [
    "## True = 1 False = 0\n",
    "## este modelo clasifico correctamente 425.206 registros (tipo I)\n",
    "## calsifico incorrectamente 93.807 registros como error tipo II - No rechazar Ho, cuando Ho es falsa"
   ]
  }
 ],
 "metadata": {
  "colab": {
   "name": "Deteccion de fraude - regresion  logistica.ipynb",
   "provenance": []
  },
  "kernelspec": {
   "display_name": "Python 3",
   "language": "python",
   "name": "python3"
  },
  "language_info": {
   "codemirror_mode": {
    "name": "ipython",
    "version": 3
   },
   "file_extension": ".py",
   "mimetype": "text/x-python",
   "name": "python",
   "nbconvert_exporter": "python",
   "pygments_lexer": "ipython3",
   "version": "3.8.3"
  }
 },
 "nbformat": 4,
 "nbformat_minor": 1
}
